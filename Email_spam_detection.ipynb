{
  "nbformat": 4,
  "nbformat_minor": 0,
  "metadata": {
    "colab": {
      "provenance": []
    },
    "kernelspec": {
      "name": "python3",
      "display_name": "Python 3"
    },
    "language_info": {
      "name": "python"
    }
  },
  "cells": [
    {
      "cell_type": "code",
      "execution_count": null,
      "metadata": {
        "colab": {
          "base_uri": "https://localhost:8080/"
        },
        "id": "y3oTsEJJiL2m",
        "outputId": "708de1b7-bd62-4a9d-c7c4-9279b60fae92"
      },
      "outputs": [
        {
          "output_type": "stream",
          "name": "stderr",
          "text": [
            "[nltk_data] Downloading package punkt to /root/nltk_data...\n",
            "[nltk_data]   Unzipping tokenizers/punkt.zip.\n"
          ]
        },
        {
          "output_type": "execute_result",
          "data": {
            "text/plain": [
              "True"
            ]
          },
          "metadata": {},
          "execution_count": 1
        }
      ],
      "source": [
        "# Importing necessary libraries\n",
        "import pandas as pd\n",
        "import numpy as np\n",
        "from sklearn.model_selection import train_test_split\n",
        "from sklearn.feature_extraction.text import CountVectorizer, TfidfVectorizer\n",
        "from sklearn.naive_bayes import MultinomialNB\n",
        "from sklearn.linear_model import LogisticRegression\n",
        "from sklearn.metrics import accuracy_score, precision_score, recall_score, f1_score\n",
        "import nltk\n",
        "from nltk.corpus import stopwords\n",
        "import gensim\n",
        "from gensim.models import Word2Vec\n",
        "nltk.download('punkt')"
      ]
    },
    {
      "cell_type": "code",
      "source": [
        "#for boosting classification purposes\n",
        "from sklearn.ensemble import AdaBoostClassifier, GradientBoostingClassifier\n",
        "import xgboost as xgb\n",
        "import lightgbm as lgb"
      ],
      "metadata": {
        "id": "9RauYX5gorbi",
        "colab": {
          "base_uri": "https://localhost:8080/"
        },
        "outputId": "8e507858-ff38-4437-a5c6-be2f91f6a3aa"
      },
      "execution_count": null,
      "outputs": [
        {
          "output_type": "stream",
          "name": "stderr",
          "text": [
            "/usr/local/lib/python3.10/dist-packages/dask/dataframe/__init__.py:42: FutureWarning: \n",
            "Dask dataframe query planning is disabled because dask-expr is not installed.\n",
            "\n",
            "You can install it with `pip install dask[dataframe]` or `conda install dask`.\n",
            "This will raise in a future version.\n",
            "\n",
            "  warnings.warn(msg, FutureWarning)\n"
          ]
        }
      ]
    },
    {
      "cell_type": "code",
      "source": [
        "# Feature Fusion: Concatenating all feature extraction techniques\n",
        "from scipy.sparse import hstack"
      ],
      "metadata": {
        "id": "rVgH06fSZFfF"
      },
      "execution_count": null,
      "outputs": []
    },
    {
      "cell_type": "code",
      "source": [
        "from sklearn.metrics import confusion_matrix, roc_curve, auc, accuracy_score\n",
        "import matplotlib.pyplot as plt\n",
        "import seaborn as sns"
      ],
      "metadata": {
        "id": "WddluzsGN_HO"
      },
      "execution_count": null,
      "outputs": []
    },
    {
      "cell_type": "code",
      "source": [
        "# Loading dataset\n",
        "spam_df = pd.read_csv(\"/content/spam.csv\")"
      ],
      "metadata": {
        "id": "oNRqY3VriX7K"
      },
      "execution_count": null,
      "outputs": []
    },
    {
      "cell_type": "code",
      "source": [
        "#inspecting the data\n",
        "spam_df.groupby('Category').describe()"
      ],
      "metadata": {
        "colab": {
          "base_uri": "https://localhost:8080/",
          "height": 174
        },
        "id": "JqjzkVRiilVC",
        "outputId": "5daee51d-03bb-47fc-9be8-4b424d3d4ed5"
      },
      "execution_count": null,
      "outputs": [
        {
          "output_type": "execute_result",
          "data": {
            "text/plain": [
              "         Message                                                            \\\n",
              "           count unique                                                top   \n",
              "Category                                                                     \n",
              "ham         4825   4516                             Sorry, I'll call later   \n",
              "spam         747    641  Please call our customer service representativ...   \n",
              "\n",
              "               \n",
              "         freq  \n",
              "Category       \n",
              "ham        30  \n",
              "spam        4  "
            ],
            "text/html": [
              "\n",
              "  <div id=\"df-2bbb8701-b9a8-4389-8690-b099d37ef8a6\" class=\"colab-df-container\">\n",
              "    <div>\n",
              "<style scoped>\n",
              "    .dataframe tbody tr th:only-of-type {\n",
              "        vertical-align: middle;\n",
              "    }\n",
              "\n",
              "    .dataframe tbody tr th {\n",
              "        vertical-align: top;\n",
              "    }\n",
              "\n",
              "    .dataframe thead tr th {\n",
              "        text-align: left;\n",
              "    }\n",
              "\n",
              "    .dataframe thead tr:last-of-type th {\n",
              "        text-align: right;\n",
              "    }\n",
              "</style>\n",
              "<table border=\"1\" class=\"dataframe\">\n",
              "  <thead>\n",
              "    <tr>\n",
              "      <th></th>\n",
              "      <th colspan=\"4\" halign=\"left\">Message</th>\n",
              "    </tr>\n",
              "    <tr>\n",
              "      <th></th>\n",
              "      <th>count</th>\n",
              "      <th>unique</th>\n",
              "      <th>top</th>\n",
              "      <th>freq</th>\n",
              "    </tr>\n",
              "    <tr>\n",
              "      <th>Category</th>\n",
              "      <th></th>\n",
              "      <th></th>\n",
              "      <th></th>\n",
              "      <th></th>\n",
              "    </tr>\n",
              "  </thead>\n",
              "  <tbody>\n",
              "    <tr>\n",
              "      <th>ham</th>\n",
              "      <td>4825</td>\n",
              "      <td>4516</td>\n",
              "      <td>Sorry, I'll call later</td>\n",
              "      <td>30</td>\n",
              "    </tr>\n",
              "    <tr>\n",
              "      <th>spam</th>\n",
              "      <td>747</td>\n",
              "      <td>641</td>\n",
              "      <td>Please call our customer service representativ...</td>\n",
              "      <td>4</td>\n",
              "    </tr>\n",
              "  </tbody>\n",
              "</table>\n",
              "</div>\n",
              "    <div class=\"colab-df-buttons\">\n",
              "\n",
              "  <div class=\"colab-df-container\">\n",
              "    <button class=\"colab-df-convert\" onclick=\"convertToInteractive('df-2bbb8701-b9a8-4389-8690-b099d37ef8a6')\"\n",
              "            title=\"Convert this dataframe to an interactive table.\"\n",
              "            style=\"display:none;\">\n",
              "\n",
              "  <svg xmlns=\"http://www.w3.org/2000/svg\" height=\"24px\" viewBox=\"0 -960 960 960\">\n",
              "    <path d=\"M120-120v-720h720v720H120Zm60-500h600v-160H180v160Zm220 220h160v-160H400v160Zm0 220h160v-160H400v160ZM180-400h160v-160H180v160Zm440 0h160v-160H620v160ZM180-180h160v-160H180v160Zm440 0h160v-160H620v160Z\"/>\n",
              "  </svg>\n",
              "    </button>\n",
              "\n",
              "  <style>\n",
              "    .colab-df-container {\n",
              "      display:flex;\n",
              "      gap: 12px;\n",
              "    }\n",
              "\n",
              "    .colab-df-convert {\n",
              "      background-color: #E8F0FE;\n",
              "      border: none;\n",
              "      border-radius: 50%;\n",
              "      cursor: pointer;\n",
              "      display: none;\n",
              "      fill: #1967D2;\n",
              "      height: 32px;\n",
              "      padding: 0 0 0 0;\n",
              "      width: 32px;\n",
              "    }\n",
              "\n",
              "    .colab-df-convert:hover {\n",
              "      background-color: #E2EBFA;\n",
              "      box-shadow: 0px 1px 2px rgba(60, 64, 67, 0.3), 0px 1px 3px 1px rgba(60, 64, 67, 0.15);\n",
              "      fill: #174EA6;\n",
              "    }\n",
              "\n",
              "    .colab-df-buttons div {\n",
              "      margin-bottom: 4px;\n",
              "    }\n",
              "\n",
              "    [theme=dark] .colab-df-convert {\n",
              "      background-color: #3B4455;\n",
              "      fill: #D2E3FC;\n",
              "    }\n",
              "\n",
              "    [theme=dark] .colab-df-convert:hover {\n",
              "      background-color: #434B5C;\n",
              "      box-shadow: 0px 1px 3px 1px rgba(0, 0, 0, 0.15);\n",
              "      filter: drop-shadow(0px 1px 2px rgba(0, 0, 0, 0.3));\n",
              "      fill: #FFFFFF;\n",
              "    }\n",
              "  </style>\n",
              "\n",
              "    <script>\n",
              "      const buttonEl =\n",
              "        document.querySelector('#df-2bbb8701-b9a8-4389-8690-b099d37ef8a6 button.colab-df-convert');\n",
              "      buttonEl.style.display =\n",
              "        google.colab.kernel.accessAllowed ? 'block' : 'none';\n",
              "\n",
              "      async function convertToInteractive(key) {\n",
              "        const element = document.querySelector('#df-2bbb8701-b9a8-4389-8690-b099d37ef8a6');\n",
              "        const dataTable =\n",
              "          await google.colab.kernel.invokeFunction('convertToInteractive',\n",
              "                                                    [key], {});\n",
              "        if (!dataTable) return;\n",
              "\n",
              "        const docLinkHtml = 'Like what you see? Visit the ' +\n",
              "          '<a target=\"_blank\" href=https://colab.research.google.com/notebooks/data_table.ipynb>data table notebook</a>'\n",
              "          + ' to learn more about interactive tables.';\n",
              "        element.innerHTML = '';\n",
              "        dataTable['output_type'] = 'display_data';\n",
              "        await google.colab.output.renderOutput(dataTable, element);\n",
              "        const docLink = document.createElement('div');\n",
              "        docLink.innerHTML = docLinkHtml;\n",
              "        element.appendChild(docLink);\n",
              "      }\n",
              "    </script>\n",
              "  </div>\n",
              "\n",
              "\n",
              "<div id=\"df-3c433337-aa25-4698-8c05-59423611d9b3\">\n",
              "  <button class=\"colab-df-quickchart\" onclick=\"quickchart('df-3c433337-aa25-4698-8c05-59423611d9b3')\"\n",
              "            title=\"Suggest charts\"\n",
              "            style=\"display:none;\">\n",
              "\n",
              "<svg xmlns=\"http://www.w3.org/2000/svg\" height=\"24px\"viewBox=\"0 0 24 24\"\n",
              "     width=\"24px\">\n",
              "    <g>\n",
              "        <path d=\"M19 3H5c-1.1 0-2 .9-2 2v14c0 1.1.9 2 2 2h14c1.1 0 2-.9 2-2V5c0-1.1-.9-2-2-2zM9 17H7v-7h2v7zm4 0h-2V7h2v10zm4 0h-2v-4h2v4z\"/>\n",
              "    </g>\n",
              "</svg>\n",
              "  </button>\n",
              "\n",
              "<style>\n",
              "  .colab-df-quickchart {\n",
              "      --bg-color: #E8F0FE;\n",
              "      --fill-color: #1967D2;\n",
              "      --hover-bg-color: #E2EBFA;\n",
              "      --hover-fill-color: #174EA6;\n",
              "      --disabled-fill-color: #AAA;\n",
              "      --disabled-bg-color: #DDD;\n",
              "  }\n",
              "\n",
              "  [theme=dark] .colab-df-quickchart {\n",
              "      --bg-color: #3B4455;\n",
              "      --fill-color: #D2E3FC;\n",
              "      --hover-bg-color: #434B5C;\n",
              "      --hover-fill-color: #FFFFFF;\n",
              "      --disabled-bg-color: #3B4455;\n",
              "      --disabled-fill-color: #666;\n",
              "  }\n",
              "\n",
              "  .colab-df-quickchart {\n",
              "    background-color: var(--bg-color);\n",
              "    border: none;\n",
              "    border-radius: 50%;\n",
              "    cursor: pointer;\n",
              "    display: none;\n",
              "    fill: var(--fill-color);\n",
              "    height: 32px;\n",
              "    padding: 0;\n",
              "    width: 32px;\n",
              "  }\n",
              "\n",
              "  .colab-df-quickchart:hover {\n",
              "    background-color: var(--hover-bg-color);\n",
              "    box-shadow: 0 1px 2px rgba(60, 64, 67, 0.3), 0 1px 3px 1px rgba(60, 64, 67, 0.15);\n",
              "    fill: var(--button-hover-fill-color);\n",
              "  }\n",
              "\n",
              "  .colab-df-quickchart-complete:disabled,\n",
              "  .colab-df-quickchart-complete:disabled:hover {\n",
              "    background-color: var(--disabled-bg-color);\n",
              "    fill: var(--disabled-fill-color);\n",
              "    box-shadow: none;\n",
              "  }\n",
              "\n",
              "  .colab-df-spinner {\n",
              "    border: 2px solid var(--fill-color);\n",
              "    border-color: transparent;\n",
              "    border-bottom-color: var(--fill-color);\n",
              "    animation:\n",
              "      spin 1s steps(1) infinite;\n",
              "  }\n",
              "\n",
              "  @keyframes spin {\n",
              "    0% {\n",
              "      border-color: transparent;\n",
              "      border-bottom-color: var(--fill-color);\n",
              "      border-left-color: var(--fill-color);\n",
              "    }\n",
              "    20% {\n",
              "      border-color: transparent;\n",
              "      border-left-color: var(--fill-color);\n",
              "      border-top-color: var(--fill-color);\n",
              "    }\n",
              "    30% {\n",
              "      border-color: transparent;\n",
              "      border-left-color: var(--fill-color);\n",
              "      border-top-color: var(--fill-color);\n",
              "      border-right-color: var(--fill-color);\n",
              "    }\n",
              "    40% {\n",
              "      border-color: transparent;\n",
              "      border-right-color: var(--fill-color);\n",
              "      border-top-color: var(--fill-color);\n",
              "    }\n",
              "    60% {\n",
              "      border-color: transparent;\n",
              "      border-right-color: var(--fill-color);\n",
              "    }\n",
              "    80% {\n",
              "      border-color: transparent;\n",
              "      border-right-color: var(--fill-color);\n",
              "      border-bottom-color: var(--fill-color);\n",
              "    }\n",
              "    90% {\n",
              "      border-color: transparent;\n",
              "      border-bottom-color: var(--fill-color);\n",
              "    }\n",
              "  }\n",
              "</style>\n",
              "\n",
              "  <script>\n",
              "    async function quickchart(key) {\n",
              "      const quickchartButtonEl =\n",
              "        document.querySelector('#' + key + ' button');\n",
              "      quickchartButtonEl.disabled = true;  // To prevent multiple clicks.\n",
              "      quickchartButtonEl.classList.add('colab-df-spinner');\n",
              "      try {\n",
              "        const charts = await google.colab.kernel.invokeFunction(\n",
              "            'suggestCharts', [key], {});\n",
              "      } catch (error) {\n",
              "        console.error('Error during call to suggestCharts:', error);\n",
              "      }\n",
              "      quickchartButtonEl.classList.remove('colab-df-spinner');\n",
              "      quickchartButtonEl.classList.add('colab-df-quickchart-complete');\n",
              "    }\n",
              "    (() => {\n",
              "      let quickchartButtonEl =\n",
              "        document.querySelector('#df-3c433337-aa25-4698-8c05-59423611d9b3 button');\n",
              "      quickchartButtonEl.style.display =\n",
              "        google.colab.kernel.accessAllowed ? 'block' : 'none';\n",
              "    })();\n",
              "  </script>\n",
              "</div>\n",
              "\n",
              "    </div>\n",
              "  </div>\n"
            ],
            "application/vnd.google.colaboratory.intrinsic+json": {
              "type": "dataframe",
              "summary": "{\n  \"name\": \"spam_df\",\n  \"rows\": 2,\n  \"fields\": [\n    {\n      \"column\": [\n        \"Category\",\n        \"\"\n      ],\n      \"properties\": {\n        \"dtype\": \"string\",\n        \"num_unique_values\": 2,\n        \"samples\": [\n          \"spam\",\n          \"ham\"\n        ],\n        \"semantic_type\": \"\",\n        \"description\": \"\"\n      }\n    },\n    {\n      \"column\": [\n        \"Message\",\n        \"count\"\n      ],\n      \"properties\": {\n        \"dtype\": \"date\",\n        \"min\": \"747\",\n        \"max\": \"4825\",\n        \"num_unique_values\": 2,\n        \"samples\": [\n          \"747\",\n          \"4825\"\n        ],\n        \"semantic_type\": \"\",\n        \"description\": \"\"\n      }\n    },\n    {\n      \"column\": [\n        \"Message\",\n        \"unique\"\n      ],\n      \"properties\": {\n        \"dtype\": \"date\",\n        \"min\": 641,\n        \"max\": 4516,\n        \"num_unique_values\": 2,\n        \"samples\": [\n          641,\n          4516\n        ],\n        \"semantic_type\": \"\",\n        \"description\": \"\"\n      }\n    },\n    {\n      \"column\": [\n        \"Message\",\n        \"top\"\n      ],\n      \"properties\": {\n        \"dtype\": \"string\",\n        \"num_unique_values\": 2,\n        \"samples\": [\n          \"Please call our customer service representative on FREEPHONE 0808 145 4742 between 9am-11pm as you have WON a guaranteed \\u00a31000 cash or \\u00a35000 prize!\",\n          \"Sorry, I'll call later\"\n        ],\n        \"semantic_type\": \"\",\n        \"description\": \"\"\n      }\n    },\n    {\n      \"column\": [\n        \"Message\",\n        \"freq\"\n      ],\n      \"properties\": {\n        \"dtype\": \"date\",\n        \"min\": \"4\",\n        \"max\": \"30\",\n        \"num_unique_values\": 2,\n        \"samples\": [\n          \"4\",\n          \"30\"\n        ],\n        \"semantic_type\": \"\",\n        \"description\": \"\"\n      }\n    }\n  ]\n}"
            }
          },
          "metadata": {},
          "execution_count": 6
        }
      ]
    },
    {
      "cell_type": "code",
      "source": [
        "# Turning spam/ham into numerical data\n",
        "spam_df['spam'] = spam_df['Category'].apply(lambda x:1 if x=='spam' else 0)"
      ],
      "metadata": {
        "id": "qLdtcgpJihGs"
      },
      "execution_count": null,
      "outputs": []
    },
    {
      "cell_type": "code",
      "source": [
        "spam_df"
      ],
      "metadata": {
        "colab": {
          "base_uri": "https://localhost:8080/",
          "height": 423
        },
        "id": "1PeCk63vipJf",
        "outputId": "143b16ac-c643-40cf-afd9-65a35d0d766d"
      },
      "execution_count": null,
      "outputs": [
        {
          "output_type": "execute_result",
          "data": {
            "text/plain": [
              "     Category                                            Message  spam\n",
              "0         ham  Go until jurong point, crazy.. Available only ...     0\n",
              "1         ham                      Ok lar... Joking wif u oni...     0\n",
              "2        spam  Free entry in 2 a wkly comp to win FA Cup fina...     1\n",
              "3         ham  U dun say so early hor... U c already then say...     0\n",
              "4         ham  Nah I don't think he goes to usf, he lives aro...     0\n",
              "...       ...                                                ...   ...\n",
              "5567     spam  This is the 2nd time we have tried 2 contact u...     1\n",
              "5568      ham               Will ü b going to esplanade fr home?     0\n",
              "5569      ham  Pity, * was in mood for that. So...any other s...     0\n",
              "5570      ham  The guy did some bitching but I acted like i'd...     0\n",
              "5571      ham                         Rofl. Its true to its name     0\n",
              "\n",
              "[5572 rows x 3 columns]"
            ],
            "text/html": [
              "\n",
              "  <div id=\"df-a03854bd-6dcd-46cb-ac07-36206f6b7560\" class=\"colab-df-container\">\n",
              "    <div>\n",
              "<style scoped>\n",
              "    .dataframe tbody tr th:only-of-type {\n",
              "        vertical-align: middle;\n",
              "    }\n",
              "\n",
              "    .dataframe tbody tr th {\n",
              "        vertical-align: top;\n",
              "    }\n",
              "\n",
              "    .dataframe thead th {\n",
              "        text-align: right;\n",
              "    }\n",
              "</style>\n",
              "<table border=\"1\" class=\"dataframe\">\n",
              "  <thead>\n",
              "    <tr style=\"text-align: right;\">\n",
              "      <th></th>\n",
              "      <th>Category</th>\n",
              "      <th>Message</th>\n",
              "      <th>spam</th>\n",
              "    </tr>\n",
              "  </thead>\n",
              "  <tbody>\n",
              "    <tr>\n",
              "      <th>0</th>\n",
              "      <td>ham</td>\n",
              "      <td>Go until jurong point, crazy.. Available only ...</td>\n",
              "      <td>0</td>\n",
              "    </tr>\n",
              "    <tr>\n",
              "      <th>1</th>\n",
              "      <td>ham</td>\n",
              "      <td>Ok lar... Joking wif u oni...</td>\n",
              "      <td>0</td>\n",
              "    </tr>\n",
              "    <tr>\n",
              "      <th>2</th>\n",
              "      <td>spam</td>\n",
              "      <td>Free entry in 2 a wkly comp to win FA Cup fina...</td>\n",
              "      <td>1</td>\n",
              "    </tr>\n",
              "    <tr>\n",
              "      <th>3</th>\n",
              "      <td>ham</td>\n",
              "      <td>U dun say so early hor... U c already then say...</td>\n",
              "      <td>0</td>\n",
              "    </tr>\n",
              "    <tr>\n",
              "      <th>4</th>\n",
              "      <td>ham</td>\n",
              "      <td>Nah I don't think he goes to usf, he lives aro...</td>\n",
              "      <td>0</td>\n",
              "    </tr>\n",
              "    <tr>\n",
              "      <th>...</th>\n",
              "      <td>...</td>\n",
              "      <td>...</td>\n",
              "      <td>...</td>\n",
              "    </tr>\n",
              "    <tr>\n",
              "      <th>5567</th>\n",
              "      <td>spam</td>\n",
              "      <td>This is the 2nd time we have tried 2 contact u...</td>\n",
              "      <td>1</td>\n",
              "    </tr>\n",
              "    <tr>\n",
              "      <th>5568</th>\n",
              "      <td>ham</td>\n",
              "      <td>Will ü b going to esplanade fr home?</td>\n",
              "      <td>0</td>\n",
              "    </tr>\n",
              "    <tr>\n",
              "      <th>5569</th>\n",
              "      <td>ham</td>\n",
              "      <td>Pity, * was in mood for that. So...any other s...</td>\n",
              "      <td>0</td>\n",
              "    </tr>\n",
              "    <tr>\n",
              "      <th>5570</th>\n",
              "      <td>ham</td>\n",
              "      <td>The guy did some bitching but I acted like i'd...</td>\n",
              "      <td>0</td>\n",
              "    </tr>\n",
              "    <tr>\n",
              "      <th>5571</th>\n",
              "      <td>ham</td>\n",
              "      <td>Rofl. Its true to its name</td>\n",
              "      <td>0</td>\n",
              "    </tr>\n",
              "  </tbody>\n",
              "</table>\n",
              "<p>5572 rows × 3 columns</p>\n",
              "</div>\n",
              "    <div class=\"colab-df-buttons\">\n",
              "\n",
              "  <div class=\"colab-df-container\">\n",
              "    <button class=\"colab-df-convert\" onclick=\"convertToInteractive('df-a03854bd-6dcd-46cb-ac07-36206f6b7560')\"\n",
              "            title=\"Convert this dataframe to an interactive table.\"\n",
              "            style=\"display:none;\">\n",
              "\n",
              "  <svg xmlns=\"http://www.w3.org/2000/svg\" height=\"24px\" viewBox=\"0 -960 960 960\">\n",
              "    <path d=\"M120-120v-720h720v720H120Zm60-500h600v-160H180v160Zm220 220h160v-160H400v160Zm0 220h160v-160H400v160ZM180-400h160v-160H180v160Zm440 0h160v-160H620v160ZM180-180h160v-160H180v160Zm440 0h160v-160H620v160Z\"/>\n",
              "  </svg>\n",
              "    </button>\n",
              "\n",
              "  <style>\n",
              "    .colab-df-container {\n",
              "      display:flex;\n",
              "      gap: 12px;\n",
              "    }\n",
              "\n",
              "    .colab-df-convert {\n",
              "      background-color: #E8F0FE;\n",
              "      border: none;\n",
              "      border-radius: 50%;\n",
              "      cursor: pointer;\n",
              "      display: none;\n",
              "      fill: #1967D2;\n",
              "      height: 32px;\n",
              "      padding: 0 0 0 0;\n",
              "      width: 32px;\n",
              "    }\n",
              "\n",
              "    .colab-df-convert:hover {\n",
              "      background-color: #E2EBFA;\n",
              "      box-shadow: 0px 1px 2px rgba(60, 64, 67, 0.3), 0px 1px 3px 1px rgba(60, 64, 67, 0.15);\n",
              "      fill: #174EA6;\n",
              "    }\n",
              "\n",
              "    .colab-df-buttons div {\n",
              "      margin-bottom: 4px;\n",
              "    }\n",
              "\n",
              "    [theme=dark] .colab-df-convert {\n",
              "      background-color: #3B4455;\n",
              "      fill: #D2E3FC;\n",
              "    }\n",
              "\n",
              "    [theme=dark] .colab-df-convert:hover {\n",
              "      background-color: #434B5C;\n",
              "      box-shadow: 0px 1px 3px 1px rgba(0, 0, 0, 0.15);\n",
              "      filter: drop-shadow(0px 1px 2px rgba(0, 0, 0, 0.3));\n",
              "      fill: #FFFFFF;\n",
              "    }\n",
              "  </style>\n",
              "\n",
              "    <script>\n",
              "      const buttonEl =\n",
              "        document.querySelector('#df-a03854bd-6dcd-46cb-ac07-36206f6b7560 button.colab-df-convert');\n",
              "      buttonEl.style.display =\n",
              "        google.colab.kernel.accessAllowed ? 'block' : 'none';\n",
              "\n",
              "      async function convertToInteractive(key) {\n",
              "        const element = document.querySelector('#df-a03854bd-6dcd-46cb-ac07-36206f6b7560');\n",
              "        const dataTable =\n",
              "          await google.colab.kernel.invokeFunction('convertToInteractive',\n",
              "                                                    [key], {});\n",
              "        if (!dataTable) return;\n",
              "\n",
              "        const docLinkHtml = 'Like what you see? Visit the ' +\n",
              "          '<a target=\"_blank\" href=https://colab.research.google.com/notebooks/data_table.ipynb>data table notebook</a>'\n",
              "          + ' to learn more about interactive tables.';\n",
              "        element.innerHTML = '';\n",
              "        dataTable['output_type'] = 'display_data';\n",
              "        await google.colab.output.renderOutput(dataTable, element);\n",
              "        const docLink = document.createElement('div');\n",
              "        docLink.innerHTML = docLinkHtml;\n",
              "        element.appendChild(docLink);\n",
              "      }\n",
              "    </script>\n",
              "  </div>\n",
              "\n",
              "\n",
              "<div id=\"df-4367b7f1-f25f-4a64-9154-1dcc4054123c\">\n",
              "  <button class=\"colab-df-quickchart\" onclick=\"quickchart('df-4367b7f1-f25f-4a64-9154-1dcc4054123c')\"\n",
              "            title=\"Suggest charts\"\n",
              "            style=\"display:none;\">\n",
              "\n",
              "<svg xmlns=\"http://www.w3.org/2000/svg\" height=\"24px\"viewBox=\"0 0 24 24\"\n",
              "     width=\"24px\">\n",
              "    <g>\n",
              "        <path d=\"M19 3H5c-1.1 0-2 .9-2 2v14c0 1.1.9 2 2 2h14c1.1 0 2-.9 2-2V5c0-1.1-.9-2-2-2zM9 17H7v-7h2v7zm4 0h-2V7h2v10zm4 0h-2v-4h2v4z\"/>\n",
              "    </g>\n",
              "</svg>\n",
              "  </button>\n",
              "\n",
              "<style>\n",
              "  .colab-df-quickchart {\n",
              "      --bg-color: #E8F0FE;\n",
              "      --fill-color: #1967D2;\n",
              "      --hover-bg-color: #E2EBFA;\n",
              "      --hover-fill-color: #174EA6;\n",
              "      --disabled-fill-color: #AAA;\n",
              "      --disabled-bg-color: #DDD;\n",
              "  }\n",
              "\n",
              "  [theme=dark] .colab-df-quickchart {\n",
              "      --bg-color: #3B4455;\n",
              "      --fill-color: #D2E3FC;\n",
              "      --hover-bg-color: #434B5C;\n",
              "      --hover-fill-color: #FFFFFF;\n",
              "      --disabled-bg-color: #3B4455;\n",
              "      --disabled-fill-color: #666;\n",
              "  }\n",
              "\n",
              "  .colab-df-quickchart {\n",
              "    background-color: var(--bg-color);\n",
              "    border: none;\n",
              "    border-radius: 50%;\n",
              "    cursor: pointer;\n",
              "    display: none;\n",
              "    fill: var(--fill-color);\n",
              "    height: 32px;\n",
              "    padding: 0;\n",
              "    width: 32px;\n",
              "  }\n",
              "\n",
              "  .colab-df-quickchart:hover {\n",
              "    background-color: var(--hover-bg-color);\n",
              "    box-shadow: 0 1px 2px rgba(60, 64, 67, 0.3), 0 1px 3px 1px rgba(60, 64, 67, 0.15);\n",
              "    fill: var(--button-hover-fill-color);\n",
              "  }\n",
              "\n",
              "  .colab-df-quickchart-complete:disabled,\n",
              "  .colab-df-quickchart-complete:disabled:hover {\n",
              "    background-color: var(--disabled-bg-color);\n",
              "    fill: var(--disabled-fill-color);\n",
              "    box-shadow: none;\n",
              "  }\n",
              "\n",
              "  .colab-df-spinner {\n",
              "    border: 2px solid var(--fill-color);\n",
              "    border-color: transparent;\n",
              "    border-bottom-color: var(--fill-color);\n",
              "    animation:\n",
              "      spin 1s steps(1) infinite;\n",
              "  }\n",
              "\n",
              "  @keyframes spin {\n",
              "    0% {\n",
              "      border-color: transparent;\n",
              "      border-bottom-color: var(--fill-color);\n",
              "      border-left-color: var(--fill-color);\n",
              "    }\n",
              "    20% {\n",
              "      border-color: transparent;\n",
              "      border-left-color: var(--fill-color);\n",
              "      border-top-color: var(--fill-color);\n",
              "    }\n",
              "    30% {\n",
              "      border-color: transparent;\n",
              "      border-left-color: var(--fill-color);\n",
              "      border-top-color: var(--fill-color);\n",
              "      border-right-color: var(--fill-color);\n",
              "    }\n",
              "    40% {\n",
              "      border-color: transparent;\n",
              "      border-right-color: var(--fill-color);\n",
              "      border-top-color: var(--fill-color);\n",
              "    }\n",
              "    60% {\n",
              "      border-color: transparent;\n",
              "      border-right-color: var(--fill-color);\n",
              "    }\n",
              "    80% {\n",
              "      border-color: transparent;\n",
              "      border-right-color: var(--fill-color);\n",
              "      border-bottom-color: var(--fill-color);\n",
              "    }\n",
              "    90% {\n",
              "      border-color: transparent;\n",
              "      border-bottom-color: var(--fill-color);\n",
              "    }\n",
              "  }\n",
              "</style>\n",
              "\n",
              "  <script>\n",
              "    async function quickchart(key) {\n",
              "      const quickchartButtonEl =\n",
              "        document.querySelector('#' + key + ' button');\n",
              "      quickchartButtonEl.disabled = true;  // To prevent multiple clicks.\n",
              "      quickchartButtonEl.classList.add('colab-df-spinner');\n",
              "      try {\n",
              "        const charts = await google.colab.kernel.invokeFunction(\n",
              "            'suggestCharts', [key], {});\n",
              "      } catch (error) {\n",
              "        console.error('Error during call to suggestCharts:', error);\n",
              "      }\n",
              "      quickchartButtonEl.classList.remove('colab-df-spinner');\n",
              "      quickchartButtonEl.classList.add('colab-df-quickchart-complete');\n",
              "    }\n",
              "    (() => {\n",
              "      let quickchartButtonEl =\n",
              "        document.querySelector('#df-4367b7f1-f25f-4a64-9154-1dcc4054123c button');\n",
              "      quickchartButtonEl.style.display =\n",
              "        google.colab.kernel.accessAllowed ? 'block' : 'none';\n",
              "    })();\n",
              "  </script>\n",
              "</div>\n",
              "\n",
              "  <div id=\"id_6b2358c9-5c9b-49ae-8e24-f3c4bc23ca2f\">\n",
              "    <style>\n",
              "      .colab-df-generate {\n",
              "        background-color: #E8F0FE;\n",
              "        border: none;\n",
              "        border-radius: 50%;\n",
              "        cursor: pointer;\n",
              "        display: none;\n",
              "        fill: #1967D2;\n",
              "        height: 32px;\n",
              "        padding: 0 0 0 0;\n",
              "        width: 32px;\n",
              "      }\n",
              "\n",
              "      .colab-df-generate:hover {\n",
              "        background-color: #E2EBFA;\n",
              "        box-shadow: 0px 1px 2px rgba(60, 64, 67, 0.3), 0px 1px 3px 1px rgba(60, 64, 67, 0.15);\n",
              "        fill: #174EA6;\n",
              "      }\n",
              "\n",
              "      [theme=dark] .colab-df-generate {\n",
              "        background-color: #3B4455;\n",
              "        fill: #D2E3FC;\n",
              "      }\n",
              "\n",
              "      [theme=dark] .colab-df-generate:hover {\n",
              "        background-color: #434B5C;\n",
              "        box-shadow: 0px 1px 3px 1px rgba(0, 0, 0, 0.15);\n",
              "        filter: drop-shadow(0px 1px 2px rgba(0, 0, 0, 0.3));\n",
              "        fill: #FFFFFF;\n",
              "      }\n",
              "    </style>\n",
              "    <button class=\"colab-df-generate\" onclick=\"generateWithVariable('spam_df')\"\n",
              "            title=\"Generate code using this dataframe.\"\n",
              "            style=\"display:none;\">\n",
              "\n",
              "  <svg xmlns=\"http://www.w3.org/2000/svg\" height=\"24px\"viewBox=\"0 0 24 24\"\n",
              "       width=\"24px\">\n",
              "    <path d=\"M7,19H8.4L18.45,9,17,7.55,7,17.6ZM5,21V16.75L18.45,3.32a2,2,0,0,1,2.83,0l1.4,1.43a1.91,1.91,0,0,1,.58,1.4,1.91,1.91,0,0,1-.58,1.4L9.25,21ZM18.45,9,17,7.55Zm-12,3A5.31,5.31,0,0,0,4.9,8.1,5.31,5.31,0,0,0,1,6.5,5.31,5.31,0,0,0,4.9,4.9,5.31,5.31,0,0,0,6.5,1,5.31,5.31,0,0,0,8.1,4.9,5.31,5.31,0,0,0,12,6.5,5.46,5.46,0,0,0,6.5,12Z\"/>\n",
              "  </svg>\n",
              "    </button>\n",
              "    <script>\n",
              "      (() => {\n",
              "      const buttonEl =\n",
              "        document.querySelector('#id_6b2358c9-5c9b-49ae-8e24-f3c4bc23ca2f button.colab-df-generate');\n",
              "      buttonEl.style.display =\n",
              "        google.colab.kernel.accessAllowed ? 'block' : 'none';\n",
              "\n",
              "      buttonEl.onclick = () => {\n",
              "        google.colab.notebook.generateWithVariable('spam_df');\n",
              "      }\n",
              "      })();\n",
              "    </script>\n",
              "  </div>\n",
              "\n",
              "    </div>\n",
              "  </div>\n"
            ],
            "application/vnd.google.colaboratory.intrinsic+json": {
              "type": "dataframe",
              "variable_name": "spam_df",
              "summary": "{\n  \"name\": \"spam_df\",\n  \"rows\": 5572,\n  \"fields\": [\n    {\n      \"column\": \"Category\",\n      \"properties\": {\n        \"dtype\": \"category\",\n        \"num_unique_values\": 2,\n        \"samples\": [\n          \"spam\",\n          \"ham\"\n        ],\n        \"semantic_type\": \"\",\n        \"description\": \"\"\n      }\n    },\n    {\n      \"column\": \"Message\",\n      \"properties\": {\n        \"dtype\": \"string\",\n        \"num_unique_values\": 5157,\n        \"samples\": [\n          \"Also sir, i sent you an email about how to log into the usc payment portal. I.ll send you another message that should explain how things are back home. Have a great weekend.\",\n          \"Are you free now?can i call now?\"\n        ],\n        \"semantic_type\": \"\",\n        \"description\": \"\"\n      }\n    },\n    {\n      \"column\": \"spam\",\n      \"properties\": {\n        \"dtype\": \"number\",\n        \"std\": 0,\n        \"min\": 0,\n        \"max\": 1,\n        \"num_unique_values\": 2,\n        \"samples\": [\n          1,\n          0\n        ],\n        \"semantic_type\": \"\",\n        \"description\": \"\"\n      }\n    }\n  ]\n}"
            }
          },
          "metadata": {},
          "execution_count": 8
        }
      ]
    },
    {
      "cell_type": "code",
      "source": [
        "# Splitting data into training and test sets\n",
        "x_train, x_test, y_train, y_test = train_test_split(spam_df['Message'], spam_df['spam'], test_size=0.25, random_state=42)"
      ],
      "metadata": {
        "id": "PbjWthFWiplV"
      },
      "execution_count": null,
      "outputs": []
    },
    {
      "cell_type": "code",
      "source": [
        "# Feature Extraction: Count Vectorizer\n",
        "cv = CountVectorizer()\n",
        "x_train_cv = cv.fit_transform(x_train)\n",
        "x_test_cv = cv.transform(x_test)"
      ],
      "metadata": {
        "id": "mX9FuXL3itFG"
      },
      "execution_count": null,
      "outputs": []
    },
    {
      "cell_type": "code",
      "source": [
        "x_train_cv.toarray()"
      ],
      "metadata": {
        "colab": {
          "base_uri": "https://localhost:8080/"
        },
        "id": "iVZ_bPA5izl8",
        "outputId": "de521dc7-4c73-46e0-f2e4-2b73a904dbfa"
      },
      "execution_count": null,
      "outputs": [
        {
          "output_type": "execute_result",
          "data": {
            "text/plain": [
              "array([[0, 0, 0, ..., 0, 0, 0],\n",
              "       [0, 0, 0, ..., 0, 0, 0],\n",
              "       [0, 0, 0, ..., 0, 0, 0],\n",
              "       ...,\n",
              "       [0, 0, 0, ..., 0, 0, 0],\n",
              "       [0, 0, 0, ..., 0, 0, 0],\n",
              "       [0, 0, 0, ..., 0, 0, 0]])"
            ]
          },
          "metadata": {},
          "execution_count": 11
        }
      ]
    },
    {
      "cell_type": "code",
      "source": [
        "# Feature Extraction: TF-IDF Vectorizer\n",
        "tfidf = TfidfVectorizer(min_df=1, stop_words=\"english\", lowercase=True)\n",
        "x_train_tfidf = tfidf.fit_transform(x_train)\n",
        "x_test_tfidf = tfidf.transform(x_test)"
      ],
      "metadata": {
        "id": "durDIrAPi3Kd"
      },
      "execution_count": null,
      "outputs": []
    },
    {
      "cell_type": "code",
      "source": [
        "x_train_tfidf.toarray()"
      ],
      "metadata": {
        "colab": {
          "base_uri": "https://localhost:8080/"
        },
        "id": "fOLFPFezi9Pu",
        "outputId": "1a83595d-1d41-452d-fdfd-a49ad8d7e2d3"
      },
      "execution_count": null,
      "outputs": [
        {
          "output_type": "execute_result",
          "data": {
            "text/plain": [
              "array([[0., 0., 0., ..., 0., 0., 0.],\n",
              "       [0., 0., 0., ..., 0., 0., 0.],\n",
              "       [0., 0., 0., ..., 0., 0., 0.],\n",
              "       ...,\n",
              "       [0., 0., 0., ..., 0., 0., 0.],\n",
              "       [0., 0., 0., ..., 0., 0., 0.],\n",
              "       [0., 0., 0., ..., 0., 0., 0.]])"
            ]
          },
          "metadata": {},
          "execution_count": 13
        }
      ]
    },
    {
      "cell_type": "code",
      "source": [
        "# Feature Extraction: Word Embeddings (Word2Vec)\n",
        "def tokenize_text(text):\n",
        "    return [nltk.word_tokenize(sentence.lower()) for sentence in nltk.sent_tokenize(text)]"
      ],
      "metadata": {
        "id": "DaUZtieljBqd"
      },
      "execution_count": null,
      "outputs": []
    },
    {
      "cell_type": "code",
      "source": [
        "# Tokenizing the text for Word2Vec training\n",
        "x_train_tokens = [tokenize_text(message) for message in x_train]\n",
        "x_test_tokens = [tokenize_text(message) for message in x_test]"
      ],
      "metadata": {
        "id": "3s3jBSaMjI5p"
      },
      "execution_count": null,
      "outputs": []
    },
    {
      "cell_type": "code",
      "source": [
        "# Training Word2Vec model\n",
        "word2vec_model = Word2Vec([word for message in x_train_tokens for word in message], vector_size=100, window=5, min_count=1, workers=4)"
      ],
      "metadata": {
        "id": "_Z_jKq-VjLcS"
      },
      "execution_count": null,
      "outputs": []
    },
    {
      "cell_type": "code",
      "source": [
        "# Create a function to convert text to word embedding vectors\n",
        "def get_average_word2vec(tokens_list, vector, generate_missing=False):\n",
        "    if len(tokens_list)<1:\n",
        "        return np.zeros(vector.vector_size)\n",
        "    vectorized = [vector.wv[word] if word in vector.wv else np.zeros(vector.vector_size) for word in tokens_list]\n",
        "    return np.mean(vectorized, axis=0)"
      ],
      "metadata": {
        "id": "Q1sk0gV9jua9"
      },
      "execution_count": null,
      "outputs": []
    },
    {
      "cell_type": "code",
      "source": [
        "# Apply the word embeddings to the training and test data\n",
        "x_train_w2v = np.array([get_average_word2vec(nltk.word_tokenize(text), word2vec_model) for text in x_train])\n",
        "x_test_w2v = np.array([get_average_word2vec(nltk.word_tokenize(text), word2vec_model) for text in x_test])"
      ],
      "metadata": {
        "id": "_MBiIabljxVH"
      },
      "execution_count": null,
      "outputs": []
    },
    {
      "cell_type": "code",
      "source": [
        "print(x_train_w2v)"
      ],
      "metadata": {
        "colab": {
          "base_uri": "https://localhost:8080/"
        },
        "id": "v945qrMcjz2C",
        "outputId": "4f2893d1-289c-4444-898e-76f27c403891"
      },
      "execution_count": null,
      "outputs": [
        {
          "output_type": "stream",
          "name": "stdout",
          "text": [
            "[[-0.11616687  0.43811884 -0.10064054 ... -0.3254554  -0.06389221\n",
            "  -0.03034013]\n",
            " [-0.14478221  0.46622867 -0.11993682 ... -0.35301346 -0.08411562\n",
            "  -0.04631861]\n",
            " [-0.24500769  0.62142783 -0.19120902 ... -0.49231675 -0.1498107\n",
            "  -0.07462263]\n",
            " ...\n",
            " [-0.16695707  0.54297746 -0.15717246 ... -0.41726885 -0.09986375\n",
            "  -0.0325966 ]\n",
            " [-0.12948339  0.26222008 -0.09817073 ... -0.20832047 -0.08271818\n",
            "  -0.03845534]\n",
            " [-0.11762857  0.41558511 -0.10235772 ... -0.30469973 -0.06933334\n",
            "  -0.03677245]]\n"
          ]
        }
      ]
    },
    {
      "cell_type": "code",
      "source": [
        "# Model Training: Multinomial Naive Bayes\n",
        "nb_model = MultinomialNB()"
      ],
      "metadata": {
        "id": "ImAHnXamj4WX"
      },
      "execution_count": null,
      "outputs": []
    },
    {
      "cell_type": "code",
      "source": [
        "# Count Vectorizer + Naive Bayes\n",
        "nb_model.fit(x_train_cv, y_train)\n",
        "y_pred_nb_cv = nb_model.predict(x_test_cv)\n",
        "print(\"Naive Bayes with Count Vectorizer Accuracy:\", accuracy_score(y_test, y_pred_nb_cv))"
      ],
      "metadata": {
        "colab": {
          "base_uri": "https://localhost:8080/"
        },
        "id": "h4QQLkpLkMXY",
        "outputId": "0694549a-17c0-4bc2-c333-81f298807f33"
      },
      "execution_count": null,
      "outputs": [
        {
          "output_type": "stream",
          "name": "stdout",
          "text": [
            "Naive Bayes with Count Vectorizer Accuracy: 0.9885139985642498\n"
          ]
        }
      ]
    },
    {
      "cell_type": "code",
      "source": [
        "# TF-IDF Vectorizer + Naive Bayes\n",
        "nb_model.fit(x_train_tfidf, y_train)\n",
        "y_pred_nb_tfidf = nb_model.predict(x_test_tfidf)\n",
        "print(\"Naive Bayes with TF-IDF Vectorizer Accuracy:\", accuracy_score(y_test, y_pred_nb_tfidf))"
      ],
      "metadata": {
        "colab": {
          "base_uri": "https://localhost:8080/"
        },
        "id": "TF7zfS26kPfJ",
        "outputId": "bc470696-6210-4c43-9e83-bc924349e0ca"
      },
      "execution_count": null,
      "outputs": [
        {
          "output_type": "stream",
          "name": "stdout",
          "text": [
            "Naive Bayes with TF-IDF Vectorizer Accuracy: 0.9727207465900933\n"
          ]
        }
      ]
    },
    {
      "cell_type": "code",
      "source": [
        "# Model Training: Logistic Regression\n",
        "lr_model = LogisticRegression(max_iter=1000)"
      ],
      "metadata": {
        "id": "KeJ-Zy67kRpL"
      },
      "execution_count": null,
      "outputs": []
    },
    {
      "cell_type": "code",
      "source": [
        "# Count Vectorizer + Logistic Regression\n",
        "lr_model.fit(x_train_cv, y_train)\n",
        "y_pred_lr_cv = lr_model.predict(x_test_cv)\n",
        "print(\"Logistic Regression with Count Vectorizer Accuracy:\", accuracy_score(y_test, y_pred_lr_cv))"
      ],
      "metadata": {
        "colab": {
          "base_uri": "https://localhost:8080/"
        },
        "id": "rYO2kXQGkvs9",
        "outputId": "b8f6fac5-c68d-4b89-d250-45cf47e3bb4d"
      },
      "execution_count": null,
      "outputs": [
        {
          "output_type": "stream",
          "name": "stdout",
          "text": [
            "Logistic Regression with Count Vectorizer Accuracy: 0.9834888729361091\n"
          ]
        }
      ]
    },
    {
      "cell_type": "code",
      "source": [
        "# TF-IDF Vectorizer + Logistic Regression\n",
        "lr_model.fit(x_train_tfidf, y_train)\n",
        "y_pred_lr_tfidf = lr_model.predict(x_test_tfidf)\n",
        "print(\"Logistic Regression with TF-IDF Vectorizer Accuracy:\", accuracy_score(y_test, y_pred_lr_tfidf))"
      ],
      "metadata": {
        "colab": {
          "base_uri": "https://localhost:8080/"
        },
        "id": "blZVh6OGkxzU",
        "outputId": "97a724da-7078-4fe6-fff8-f7f64c6199ab"
      },
      "execution_count": null,
      "outputs": [
        {
          "output_type": "stream",
          "name": "stdout",
          "text": [
            "Logistic Regression with TF-IDF Vectorizer Accuracy: 0.9662598707824839\n"
          ]
        }
      ]
    },
    {
      "cell_type": "code",
      "source": [
        "# Word Embeddings + Logistic Regression\n",
        "lr_model.fit(x_train_w2v, y_train)\n",
        "y_pred_lr_w2v = lr_model.predict(x_test_w2v)\n",
        "print(\"Logistic Regression with Word Embeddings Accuracy:\", accuracy_score(y_test, y_pred_lr_w2v))"
      ],
      "metadata": {
        "colab": {
          "base_uri": "https://localhost:8080/"
        },
        "id": "3nqCvXu6k0Da",
        "outputId": "19a62f07-bab9-4824-9c8b-16023e99d5e0"
      },
      "execution_count": null,
      "outputs": [
        {
          "output_type": "stream",
          "name": "stdout",
          "text": [
            "Logistic Regression with Word Embeddings Accuracy: 0.8557071069633884\n"
          ]
        }
      ]
    },
    {
      "cell_type": "code",
      "source": [
        "# Initialize AdaBoost with base estimator (default is DecisionTree)\n",
        "ada_model = AdaBoostClassifier(n_estimators=100)"
      ],
      "metadata": {
        "id": "g-X2Jdo7k790"
      },
      "execution_count": null,
      "outputs": []
    },
    {
      "cell_type": "code",
      "source": [
        "# Fit model on Count Vectorizer features\n",
        "ada_model.fit(x_train_cv, y_train)\n",
        "y_pred_ada_cv = ada_model.predict(x_test_cv)\n",
        "print(\"AdaBoost with Count Vectorizer Accuracy:\", accuracy_score(y_test, y_pred_ada_cv))\n"
      ],
      "metadata": {
        "colab": {
          "base_uri": "https://localhost:8080/"
        },
        "id": "5vu6hp0orUbQ",
        "outputId": "fff0d6c3-3f8b-4a33-ada0-372cca4c4b57"
      },
      "execution_count": null,
      "outputs": [
        {
          "output_type": "stream",
          "name": "stderr",
          "text": [
            "/usr/local/lib/python3.10/dist-packages/sklearn/ensemble/_weight_boosting.py:527: FutureWarning: The SAMME.R algorithm (the default) is deprecated and will be removed in 1.6. Use the SAMME algorithm to circumvent this warning.\n",
            "  warnings.warn(\n"
          ]
        },
        {
          "output_type": "stream",
          "name": "stdout",
          "text": [
            "AdaBoost with Count Vectorizer Accuracy: 0.9798994974874372\n"
          ]
        }
      ]
    },
    {
      "cell_type": "code",
      "source": [
        "# Fit model on TF-IDF features\n",
        "ada_model.fit(x_train_tfidf, y_train)\n",
        "y_pred_ada_tfidf = ada_model.predict(x_test_tfidf)\n",
        "print(\"AdaBoost with TF-IDF Vectorizer Accuracy:\", accuracy_score(y_test, y_pred_ada_tfidf))"
      ],
      "metadata": {
        "colab": {
          "base_uri": "https://localhost:8080/"
        },
        "id": "Hpki5iBorbj3",
        "outputId": "0094d2ba-7221-4aa1-d723-8818889f088d"
      },
      "execution_count": null,
      "outputs": [
        {
          "output_type": "stream",
          "name": "stderr",
          "text": [
            "/usr/local/lib/python3.10/dist-packages/sklearn/ensemble/_weight_boosting.py:527: FutureWarning: The SAMME.R algorithm (the default) is deprecated and will be removed in 1.6. Use the SAMME algorithm to circumvent this warning.\n",
            "  warnings.warn(\n"
          ]
        },
        {
          "output_type": "stream",
          "name": "stdout",
          "text": [
            "AdaBoost with TF-IDF Vectorizer Accuracy: 0.9806173725771715\n"
          ]
        }
      ]
    },
    {
      "cell_type": "code",
      "source": [
        "# Fit model on Word Embeddings\n",
        "ada_model.fit(x_train_w2v, y_train)\n",
        "y_pred_ada_w2v = ada_model.predict(x_test_w2v)\n",
        "print(\"AdaBoost with Word Embeddings Accuracy:\", accuracy_score(y_test, y_pred_ada_w2v))"
      ],
      "metadata": {
        "colab": {
          "base_uri": "https://localhost:8080/"
        },
        "id": "XwJhNteOrvAi",
        "outputId": "ab7f9a9a-5ee6-4faa-a524-ea9d6f11a080"
      },
      "execution_count": null,
      "outputs": [
        {
          "output_type": "stream",
          "name": "stderr",
          "text": [
            "/usr/local/lib/python3.10/dist-packages/sklearn/ensemble/_weight_boosting.py:527: FutureWarning: The SAMME.R algorithm (the default) is deprecated and will be removed in 1.6. Use the SAMME algorithm to circumvent this warning.\n",
            "  warnings.warn(\n"
          ]
        },
        {
          "output_type": "stream",
          "name": "stdout",
          "text": [
            "AdaBoost with Word Embeddings Accuracy: 0.9081119885139985\n"
          ]
        }
      ]
    },
    {
      "cell_type": "code",
      "source": [
        "# Initialize Gradient Boosting\n",
        "gb_model = GradientBoostingClassifier(n_estimators=100)"
      ],
      "metadata": {
        "id": "s5zsy06vrhwP"
      },
      "execution_count": null,
      "outputs": []
    },
    {
      "cell_type": "code",
      "source": [
        "# Count Vectorizer + Gradient Boosting\n",
        "gb_model.fit(x_train_cv, y_train)\n",
        "y_pred_gb_cv = gb_model.predict(x_test_cv)\n",
        "print(\"Gradient Boosting with Count Vectorizer Accuracy:\", accuracy_score(y_test, y_pred_gb_cv))"
      ],
      "metadata": {
        "colab": {
          "base_uri": "https://localhost:8080/"
        },
        "id": "lXzJikI5r0pB",
        "outputId": "070a204d-440e-4b4c-ac08-f65b6ec00799"
      },
      "execution_count": null,
      "outputs": [
        {
          "output_type": "stream",
          "name": "stdout",
          "text": [
            "Gradient Boosting with Count Vectorizer Accuracy: 0.9770279971284996\n"
          ]
        }
      ]
    },
    {
      "cell_type": "code",
      "source": [
        "# TF-IDF Vectorizer + Gradient Boosting\n",
        "gb_model.fit(x_train_tfidf, y_train)\n",
        "y_pred_gb_tfidf = gb_model.predict(x_test_tfidf)\n",
        "print(\"Gradient Boosting with TF-IDF Vectorizer Accuracy:\", accuracy_score(y_test, y_pred_gb_tfidf))\n"
      ],
      "metadata": {
        "colab": {
          "base_uri": "https://localhost:8080/"
        },
        "id": "H9UVwkTDr3F8",
        "outputId": "8d136159-bae4-417b-ac97-bc37f9b6b58d"
      },
      "execution_count": null,
      "outputs": [
        {
          "output_type": "stream",
          "name": "stdout",
          "text": [
            "Gradient Boosting with TF-IDF Vectorizer Accuracy: 0.9669777458722182\n"
          ]
        }
      ]
    },
    {
      "cell_type": "code",
      "source": [
        "# Word Embeddings + Gradient Boosting\n",
        "gb_model.fit(x_train_w2v, y_train)\n",
        "y_pred_gb_w2v = gb_model.predict(x_test_w2v)\n",
        "print(\"Gradient Boosting with Word Embeddings Accuracy:\", accuracy_score(y_test, y_pred_gb_w2v))"
      ],
      "metadata": {
        "colab": {
          "base_uri": "https://localhost:8080/"
        },
        "id": "NxdzHKkJr6Mz",
        "outputId": "beffc5d7-112f-4a0e-d5c9-b832dd4ebc9f"
      },
      "execution_count": null,
      "outputs": [
        {
          "output_type": "stream",
          "name": "stdout",
          "text": [
            "Gradient Boosting with Word Embeddings Accuracy: 0.9231873653984207\n"
          ]
        }
      ]
    },
    {
      "cell_type": "code",
      "source": [
        "# Initialize XGBoost\n",
        "xgb_model = xgb.XGBClassifier(n_estimators=100, eval_metric='logloss')"
      ],
      "metadata": {
        "id": "WG65i8pZr9OH"
      },
      "execution_count": null,
      "outputs": []
    },
    {
      "cell_type": "code",
      "source": [
        "# Count Vectorizer + XGBoost\n",
        "xgb_model.fit(x_train_cv, y_train)\n",
        "y_pred_xgb_cv = xgb_model.predict(x_test_cv)\n",
        "print(\"XGBoost with Count Vectorizer Accuracy:\", accuracy_score(y_test, y_pred_xgb_cv))"
      ],
      "metadata": {
        "colab": {
          "base_uri": "https://localhost:8080/"
        },
        "id": "C6M92gDFsJ4h",
        "outputId": "6a073387-b559-4655-9e23-3816e3288217"
      },
      "execution_count": null,
      "outputs": [
        {
          "output_type": "stream",
          "name": "stdout",
          "text": [
            "XGBoost with Count Vectorizer Accuracy: 0.9806173725771715\n"
          ]
        }
      ]
    },
    {
      "cell_type": "code",
      "source": [
        "# TF-IDF Vectorizer + XGBoost\n",
        "xgb_model.fit(x_train_tfidf, y_train)\n",
        "y_pred_xgb_tfidf = xgb_model.predict(x_test_tfidf)\n",
        "print(\"XGBoost with TF-IDF Vectorizer Accuracy:\", accuracy_score(y_test, y_pred_xgb_tfidf))"
      ],
      "metadata": {
        "colab": {
          "base_uri": "https://localhost:8080/"
        },
        "id": "bk5diud9sL0y",
        "outputId": "94501e5c-d0c9-49e0-b7b5-473e8873f023"
      },
      "execution_count": null,
      "outputs": [
        {
          "output_type": "stream",
          "name": "stdout",
          "text": [
            "XGBoost with TF-IDF Vectorizer Accuracy: 0.9770279971284996\n"
          ]
        }
      ]
    },
    {
      "cell_type": "code",
      "source": [
        "# Word Embeddings + XGBoost\n",
        "xgb_model.fit(x_train_w2v, y_train)\n",
        "y_pred_xgb_w2v = xgb_model.predict(x_test_w2v)\n",
        "print(\"XGBoost with Word Embeddings Accuracy:\", accuracy_score(y_test, y_pred_xgb_w2v))"
      ],
      "metadata": {
        "colab": {
          "base_uri": "https://localhost:8080/"
        },
        "id": "R-dF4ceBsbqh",
        "outputId": "8fb78613-f46e-402c-a49f-b5a597f19ec3"
      },
      "execution_count": null,
      "outputs": [
        {
          "output_type": "stream",
          "name": "stdout",
          "text": [
            "XGBoost with Word Embeddings Accuracy: 0.9411342426417804\n"
          ]
        }
      ]
    },
    {
      "cell_type": "code",
      "source": [
        "# Initialize LightGBM\n",
        "lgb_model = lgb.LGBMClassifier(n_estimators=100, verbose=-1)"
      ],
      "metadata": {
        "id": "98UBjNmCseMn"
      },
      "execution_count": null,
      "outputs": []
    },
    {
      "cell_type": "code",
      "source": [
        "x_train_cv_1 = x_train_cv.astype(np.float32)\n",
        "x_test_cv_1 = x_test_cv.astype(np.float32)\n",
        "\n",
        "# Count Vectorizer + LightGBM\n",
        "lgb_model.fit(x_train_cv_1, y_train)\n",
        "y_pred_lgb_cv = lgb_model.predict(x_test_cv_1)\n",
        "print(\"LightGBM with Count Vectorizer Accuracy:\", accuracy_score(y_test, y_pred_lgb_cv))"
      ],
      "metadata": {
        "colab": {
          "base_uri": "https://localhost:8080/"
        },
        "id": "XM9m3oJMsggF",
        "outputId": "20f4ac21-bb59-4313-9185-7bff455459ec"
      },
      "execution_count": null,
      "outputs": [
        {
          "output_type": "stream",
          "name": "stdout",
          "text": [
            "LightGBM with Count Vectorizer Accuracy: 0.9820531227566404\n"
          ]
        }
      ]
    },
    {
      "cell_type": "code",
      "source": [
        "# TF-IDF Vectorizer + LightGBM\n",
        "lgb_model.fit(x_train_tfidf, y_train)\n",
        "y_pred_lgb_tfidf = lgb_model.predict(x_test_tfidf)\n",
        "print(\"LightGBM with TF-IDF Vectorizer Accuracy:\", accuracy_score(y_test, y_pred_lgb_tfidf))"
      ],
      "metadata": {
        "colab": {
          "base_uri": "https://localhost:8080/"
        },
        "id": "nzKT6YKvsiTW",
        "outputId": "6396bf35-8b3c-4f2e-a173-e8eaaa4774ab"
      },
      "execution_count": null,
      "outputs": [
        {
          "output_type": "stream",
          "name": "stdout",
          "text": [
            "LightGBM with TF-IDF Vectorizer Accuracy: 0.9777458722182341\n"
          ]
        }
      ]
    },
    {
      "cell_type": "code",
      "source": [
        "# Word Embeddings + LightGBM\n",
        "lgb_model.fit(x_train_w2v, y_train)\n",
        "y_pred_lgb_w2v = lgb_model.predict(x_test_w2v)\n",
        "print(\"LightGBM with Word Embeddings Accuracy:\", accuracy_score(y_test, y_pred_lgb_w2v))"
      ],
      "metadata": {
        "colab": {
          "base_uri": "https://localhost:8080/"
        },
        "id": "2xfD7PyXtOdZ",
        "outputId": "972d3519-8387-4a42-9ae9-efc54c08832b"
      },
      "execution_count": null,
      "outputs": [
        {
          "output_type": "stream",
          "name": "stdout",
          "text": [
            "LightGBM with Word Embeddings Accuracy: 0.9440057430007178\n"
          ]
        }
      ]
    },
    {
      "cell_type": "code",
      "source": [
        "# As we have previously converted word2Vec into float now we are converting Count Vectorizer features into float\n",
        "x_train_cv_1 = x_train_cv.astype(np.float32)\n",
        "x_test_cv_1 = x_test_cv.astype(np.float32)"
      ],
      "metadata": {
        "id": "sjbHAQC_a2Ym"
      },
      "execution_count": null,
      "outputs": []
    },
    {
      "cell_type": "code",
      "source": [
        "# Convert TF-IDF features to a sparse format\n",
        "x_train_tfidf_1 = x_train_tfidf.astype(np.float32)\n",
        "x_test_tfidf_1 = x_test_tfidf.astype(np.float32)"
      ],
      "metadata": {
        "id": "r0A9yXkoa5rH"
      },
      "execution_count": null,
      "outputs": []
    },
    {
      "cell_type": "code",
      "source": [
        "# Transform Word2Vec embeddings to absolute values because we can't use negative values for multinomial naive bayes\n",
        "x_train_w2v_abs = np.abs(x_train_w2v)\n",
        "x_test_w2v_abs = np.abs(x_test_w2v)"
      ],
      "metadata": {
        "id": "CqWegRumbLDG"
      },
      "execution_count": null,
      "outputs": []
    },
    {
      "cell_type": "code",
      "source": [
        "# # Concatenate Count Vectorizer, TF-IDF, and transformed Word2Vec features\n",
        "x_train_fusion = hstack([x_train_cv_1, x_train_tfidf_1, x_train_w2v_abs])\n",
        "x_test_fusion = hstack([x_test_cv_1, x_test_tfidf_1, x_test_w2v_abs])"
      ],
      "metadata": {
        "id": "v8FSX37zbjmZ"
      },
      "execution_count": null,
      "outputs": []
    },
    {
      "cell_type": "code",
      "source": [
        "# Train Multinomial Naive Bayes with the concatenated features\n",
        "nb_model.fit(x_train_fusion, y_train)\n",
        "y_pred_nb_fusion = nb_model.predict(x_test_fusion)\n",
        "print(\"Naive Bayes with Feature Fusion Accuracy:\", accuracy_score(y_test, y_pred_nb_fusion))"
      ],
      "metadata": {
        "colab": {
          "base_uri": "https://localhost:8080/"
        },
        "id": "GGM0_dN0bo_k",
        "outputId": "7a6369ce-ad00-42a6-b75c-b719ba5cb961"
      },
      "execution_count": null,
      "outputs": [
        {
          "output_type": "stream",
          "name": "stdout",
          "text": [
            "Naive Bayes with Feature Fusion Accuracy: 0.9834888729361091\n"
          ]
        }
      ]
    },
    {
      "cell_type": "code",
      "source": [
        "# Model Training: Logistic Regression\n",
        "lr_model.fit(x_train_fusion, y_train)\n",
        "y_pred_lr_fusion = lr_model.predict(x_test_fusion)\n",
        "print(\"Logistic Regression with Feature Fusion Accuracy:\", accuracy_score(y_test, y_pred_lr_fusion))"
      ],
      "metadata": {
        "colab": {
          "base_uri": "https://localhost:8080/"
        },
        "id": "G5QGBftcbtr9",
        "outputId": "692b98aa-024a-463d-e74e-5943075a1b62"
      },
      "execution_count": null,
      "outputs": [
        {
          "output_type": "stream",
          "name": "stdout",
          "text": [
            "Logistic Regression with Feature Fusion Accuracy: 0.9849246231155779\n"
          ]
        }
      ]
    },
    {
      "cell_type": "code",
      "source": [
        "# Initialize and fit AdaBoost\n",
        "ada_model.fit(x_train_fusion, y_train)\n",
        "y_pred_ada_fusion = ada_model.predict(x_test_fusion)\n",
        "print(\"AdaBoost with Feature Fusion Accuracy:\", accuracy_score(y_test, y_pred_ada_fusion))"
      ],
      "metadata": {
        "colab": {
          "base_uri": "https://localhost:8080/"
        },
        "id": "IQwbNWe1dCrk",
        "outputId": "65223b89-fa1a-4497-fe6a-2b672b6870fe"
      },
      "execution_count": null,
      "outputs": [
        {
          "output_type": "stream",
          "name": "stderr",
          "text": [
            "/usr/local/lib/python3.10/dist-packages/sklearn/ensemble/_weight_boosting.py:527: FutureWarning: The SAMME.R algorithm (the default) is deprecated and will be removed in 1.6. Use the SAMME algorithm to circumvent this warning.\n",
            "  warnings.warn(\n"
          ]
        },
        {
          "output_type": "stream",
          "name": "stdout",
          "text": [
            "AdaBoost with Feature Fusion Accuracy: 0.9834888729361091\n"
          ]
        }
      ]
    },
    {
      "cell_type": "code",
      "source": [
        "# Initialize and fit Gradient Boosting\n",
        "gb_model.fit(x_train_fusion, y_train)\n",
        "y_pred_gb_fusion = gb_model.predict(x_test_fusion)\n",
        "print(\"Gradient Boosting with Feature Fusion Accuracy:\", accuracy_score(y_test, y_pred_gb_fusion))"
      ],
      "metadata": {
        "colab": {
          "base_uri": "https://localhost:8080/"
        },
        "id": "dUkcF_-CdFdl",
        "outputId": "eb14637d-7911-424e-8895-dc99c6db094c"
      },
      "execution_count": null,
      "outputs": [
        {
          "output_type": "stream",
          "name": "stdout",
          "text": [
            "Gradient Boosting with Feature Fusion Accuracy: 0.9763101220387652\n"
          ]
        }
      ]
    },
    {
      "cell_type": "code",
      "source": [
        "# Initialize and fit XGBoost\n",
        "xgb_model.fit(x_train_fusion, y_train)\n",
        "y_pred_xgb_fusion = xgb_model.predict(x_test_fusion)\n",
        "print(\"XGBoost with Feature Fusion Accuracy:\", accuracy_score(y_test, y_pred_xgb_fusion))"
      ],
      "metadata": {
        "colab": {
          "base_uri": "https://localhost:8080/"
        },
        "id": "criVzg3hdLPr",
        "outputId": "71056e92-2688-48c8-96cd-31648c460459"
      },
      "execution_count": null,
      "outputs": [
        {
          "output_type": "stream",
          "name": "stdout",
          "text": [
            "XGBoost with Feature Fusion Accuracy: 0.9820531227566404\n"
          ]
        }
      ]
    },
    {
      "cell_type": "code",
      "source": [
        "# Initialize and fit LightGBM\n",
        "lgb_model.fit(x_train_fusion, y_train)\n",
        "y_pred_lgb_fusion = lgb_model.predict(x_test_fusion)\n",
        "print(\"LightGBM with Feature Fusion Accuracy:\", accuracy_score(y_test, y_pred_lgb_fusion))"
      ],
      "metadata": {
        "colab": {
          "base_uri": "https://localhost:8080/"
        },
        "id": "OHsNKplOdT-p",
        "outputId": "a38c0a68-af9d-437a-cb32-2b78e16539b9"
      },
      "execution_count": null,
      "outputs": [
        {
          "output_type": "stream",
          "name": "stdout",
          "text": [
            "LightGBM with Feature Fusion Accuracy: 0.9863603732950467\n"
          ]
        },
        {
          "output_type": "stream",
          "name": "stderr",
          "text": [
            "/usr/local/lib/python3.10/dist-packages/lightgbm/basic.py:1218: UserWarning: Converting data to scipy sparse matrix.\n",
            "  _log_warning(\"Converting data to scipy sparse matrix.\")\n"
          ]
        }
      ]
    },
    {
      "cell_type": "code",
      "source": [
        "# Confusion Matrix for Naive Bayes with Feature Fusion\n",
        "y_pred_nb_fusion = nb_model.predict(x_test_fusion)\n",
        "cm_nb = confusion_matrix(y_test, y_pred_nb_fusion)\n",
        "sns.heatmap(cm_nb, annot=True, fmt=\"d\", cmap=\"Blues\", xticklabels=['Ham', 'Spam'], yticklabels=['Ham', 'Spam'])\n",
        "plt.title(\"Confusion Matrix: Naive Bayes with Feature Fusion\")\n",
        "plt.xlabel(\"Predicted\")\n",
        "plt.ylabel(\"Actual\")\n",
        "plt.show()"
      ],
      "metadata": {
        "id": "EMeMQ11QdYV1",
        "colab": {
          "base_uri": "https://localhost:8080/",
          "height": 472
        },
        "outputId": "4147fafa-c4b4-422d-c695-97ef65563a66"
      },
      "execution_count": null,
      "outputs": [
        {
          "output_type": "display_data",
          "data": {
            "text/plain": [
              "<Figure size 640x480 with 2 Axes>"
            ],
            "image/png": "[encoded data removed]"
          },
          "metadata": {}
        }
      ]
    },
    {
      "cell_type": "code",
      "source": [
        "# ROC Curve for Naive Bayes with Feature Fusion\n",
        "y_pred_nb_fusion_proba = nb_model.predict_proba(x_test_fusion)[:, 1]\n",
        "fpr_nb, tpr_nb, _ = roc_curve(y_test, y_pred_nb_fusion_proba)\n",
        "roc_auc_nb = auc(fpr_nb, tpr_nb)"
      ],
      "metadata": {
        "id": "W3TgexdFOPG6"
      },
      "execution_count": null,
      "outputs": []
    },
    {
      "cell_type": "code",
      "source": [
        "plt.plot(fpr_nb, tpr_nb, label=f'Naive Bayes (AUC = {roc_auc_nb:.2f})')\n",
        "plt.plot([0, 1], [0, 1], 'k--')  # Diagonal line\n",
        "plt.xlabel('False Positive Rate')\n",
        "plt.ylabel('True Positive Rate')\n",
        "plt.title('ROC Curve: Naive Bayes with Feature Fusion')\n",
        "plt.legend(loc=\"lower right\")\n",
        "plt.show()"
      ],
      "metadata": {
        "colab": {
          "base_uri": "https://localhost:8080/",
          "height": 472
        },
        "id": "RCvM0QVBPkHF",
        "outputId": "270a8095-fde0-465f-a251-2088e483f83e"
      },
      "execution_count": null,
      "outputs": [
        {
          "output_type": "display_data",
          "data": {
            "text/plain": [
              "<Figure size 640x480 with 1 Axes>"
            ],
            "image/png": "[encoded data removed]"
          },
          "metadata": {}
        }
      ]
    },
    {
      "cell_type": "code",
      "source": [
        "# Confusion Matrix for Logistic Regression with Feature Fusion\n",
        "y_pred_lr_fusion = lr_model.predict(x_test_fusion)\n",
        "cm_lr = confusion_matrix(y_test, y_pred_lr_fusion)\n",
        "sns.heatmap(cm_lr, annot=True, fmt=\"d\", cmap=\"Blues\", xticklabels=['Ham', 'Spam'], yticklabels=['Ham', 'Spam'])\n",
        "plt.title(\"Confusion Matrix: Logistic Regression with Feature Fusion\")\n",
        "plt.xlabel(\"Predicted\")\n",
        "plt.ylabel(\"Actual\")\n",
        "plt.show()"
      ],
      "metadata": {
        "colab": {
          "base_uri": "https://localhost:8080/",
          "height": 472
        },
        "id": "Q0X5N3T5PnDj",
        "outputId": "9fb539e7-df92-44e6-cae3-112ce1519375"
      },
      "execution_count": null,
      "outputs": [
        {
          "output_type": "display_data",
          "data": {
            "text/plain": [
              "<Figure size 640x480 with 2 Axes>"
            ],
            "image/png": "[encoded data removed]"
          },
          "metadata": {}
        }
      ]
    },
    {
      "cell_type": "code",
      "source": [
        "# ROC Curve for Logistic Regression with Feature Fusion\n",
        "y_pred_lr_fusion_proba = lr_model.predict_proba(x_test_fusion)[:, 1]\n",
        "fpr_lr, tpr_lr, _ = roc_curve(y_test, y_pred_lr_fusion_proba)\n",
        "roc_auc_lr = auc(fpr_lr, tpr_lr)"
      ],
      "metadata": {
        "id": "vfjctKSuPrTh"
      },
      "execution_count": null,
      "outputs": []
    },
    {
      "cell_type": "code",
      "source": [
        "plt.plot(fpr_lr, tpr_lr, label=f'Logistic Regression (AUC = {roc_auc_lr:.2f})')\n",
        "plt.plot([0, 1], [0, 1], 'k--')\n",
        "plt.xlabel('False Positive Rate')\n",
        "plt.ylabel('True Positive Rate')\n",
        "plt.title('ROC Curve: Logistic Regression with Feature Fusion')\n",
        "plt.legend(loc=\"lower right\")\n",
        "plt.show()"
      ],
      "metadata": {
        "colab": {
          "base_uri": "https://localhost:8080/",
          "height": 472
        },
        "id": "TfOWEU56Pv_M",
        "outputId": "1b9b5dd1-b956-4bf2-d51a-172305518a95"
      },
      "execution_count": null,
      "outputs": [
        {
          "output_type": "display_data",
          "data": {
            "text/plain": [
              "<Figure size 640x480 with 1 Axes>"
            ],
            "image/png": "[encoded data removed]"
          },
          "metadata": {}
        }
      ]
    },
    {
      "cell_type": "code",
      "source": [
        "# Confusion Matrix for AdaBoost with Feature Fusion\n",
        "y_pred_ada_fusion = ada_model.predict(x_test_fusion)\n",
        "cm_ada = confusion_matrix(y_test, y_pred_ada_fusion)\n",
        "sns.heatmap(cm_ada, annot=True, fmt=\"d\", cmap=\"Blues\", xticklabels=['Ham', 'Spam'], yticklabels=['Ham', 'Spam'])\n",
        "plt.title(\"Confusion Matrix: AdaBoost with Feature Fusion\")\n",
        "plt.xlabel(\"Predicted\")\n",
        "plt.ylabel(\"Actual\")\n",
        "plt.show()"
      ],
      "metadata": {
        "colab": {
          "base_uri": "https://localhost:8080/",
          "height": 472
        },
        "id": "Vx903uYMPyKi",
        "outputId": "1fcbc1f7-f1a8-4210-bd4f-542b5621c95b"
      },
      "execution_count": null,
      "outputs": [
        {
          "output_type": "display_data",
          "data": {
            "text/plain": [
              "<Figure size 640x480 with 2 Axes>"
            ],
            "image/png": "[encoded data removed]"
          },
          "metadata": {}
        }
      ]
    },
    {
      "cell_type": "code",
      "source": [
        "# ROC Curve for AdaBoost with Feature Fusion\n",
        "y_pred_ada_fusion_proba = ada_model.predict_proba(x_test_fusion)[:, 1]\n",
        "fpr_ada, tpr_ada, _ = roc_curve(y_test, y_pred_ada_fusion_proba)\n",
        "roc_auc_ada = auc(fpr_ada, tpr_ada)"
      ],
      "metadata": {
        "id": "3O7Ml7zuP8-p"
      },
      "execution_count": null,
      "outputs": []
    },
    {
      "cell_type": "code",
      "source": [
        "plt.plot(fpr_ada, tpr_ada, label=f'AdaBoost (AUC = {roc_auc_ada:.2f})')\n",
        "plt.plot([0, 1], [0, 1], 'k--')\n",
        "plt.xlabel('False Positive Rate')\n",
        "plt.ylabel('True Positive Rate')\n",
        "plt.title('ROC Curve: AdaBoost with Feature Fusion')\n",
        "plt.legend(loc=\"lower right\")\n",
        "plt.show()"
      ],
      "metadata": {
        "colab": {
          "base_uri": "https://localhost:8080/",
          "height": 472
        },
        "id": "PzhCJGSbP-8-",
        "outputId": "e4641830-3a93-408a-9d0d-1dc684382d37"
      },
      "execution_count": null,
      "outputs": [
        {
          "output_type": "display_data",
          "data": {
            "text/plain": [
              "<Figure size 640x480 with 1 Axes>"
            ],
            "image/png": "[encoded data removed]"
          },
          "metadata": {}
        }
      ]
    },
    {
      "cell_type": "code",
      "source": [
        "# Confusion Matrix for Gradient Boosting with Feature Fusion\n",
        "y_pred_gb_fusion = gb_model.predict(x_test_fusion)\n",
        "cm_gb = confusion_matrix(y_test, y_pred_gb_fusion)\n",
        "sns.heatmap(cm_gb, annot=True, fmt=\"d\", cmap=\"Blues\", xticklabels=['Ham', 'Spam'], yticklabels=['Ham', 'Spam'])\n",
        "plt.title(\"Confusion Matrix: Gradient Boosting with Feature Fusion\")\n",
        "plt.xlabel(\"Predicted\")\n",
        "plt.ylabel(\"Actual\")\n",
        "plt.show()"
      ],
      "metadata": {
        "colab": {
          "base_uri": "https://localhost:8080/",
          "height": 472
        },
        "id": "UBaCg7ajQA84",
        "outputId": "8c013cd0-bfe6-486b-cf51-5abcaa22adb5"
      },
      "execution_count": null,
      "outputs": [
        {
          "output_type": "display_data",
          "data": {
            "text/plain": [
              "<Figure size 640x480 with 2 Axes>"
            ],
            "image/png": "[encoded data removed]"
          },
          "metadata": {}
        }
      ]
    },
    {
      "cell_type": "code",
      "source": [
        "# ROC Curve for Gradient Boosting with Feature Fusion\n",
        "y_pred_gb_fusion_proba = gb_model.predict_proba(x_test_fusion)[:, 1]\n",
        "fpr_gb, tpr_gb, _ = roc_curve(y_test, y_pred_gb_fusion_proba)\n",
        "roc_auc_gb = auc(fpr_gb, tpr_gb)"
      ],
      "metadata": {
        "id": "OG-KF_jqQD3c"
      },
      "execution_count": null,
      "outputs": []
    },
    {
      "cell_type": "code",
      "source": [
        "plt.plot(fpr_gb, tpr_gb, label=f'Gradient Boosting (AUC = {roc_auc_gb:.2f})')\n",
        "plt.plot([0, 1], [0, 1], 'k--')\n",
        "plt.xlabel('False Positive Rate')\n",
        "plt.ylabel('True Positive Rate')\n",
        "plt.title('ROC Curve: Gradient Boosting with Feature Fusion')\n",
        "plt.legend(loc=\"lower right\")\n",
        "plt.show()"
      ],
      "metadata": {
        "colab": {
          "base_uri": "https://localhost:8080/",
          "height": 472
        },
        "id": "aEYr3NlEQHLh",
        "outputId": "6b7d1003-e23a-482a-b472-993379e67f4e"
      },
      "execution_count": null,
      "outputs": [
        {
          "output_type": "display_data",
          "data": {
            "text/plain": [
              "<Figure size 640x480 with 1 Axes>"
            ],
            "image/png": "[encoded data removed]"
          },
          "metadata": {}
        }
      ]
    },
    {
      "cell_type": "code",
      "source": [
        "# Confusion Matrix for XGBoost with Feature Fusion\n",
        "y_pred_xgb_fusion = xgb_model.predict(x_test_fusion)\n",
        "cm_xgb = confusion_matrix(y_test, y_pred_xgb_fusion)\n",
        "sns.heatmap(cm_xgb, annot=True, fmt=\"d\", cmap=\"Blues\", xticklabels=['Ham', 'Spam'], yticklabels=['Ham', 'Spam'])\n",
        "plt.title(\"Confusion Matrix: XGBoost with Feature Fusion\")\n",
        "plt.xlabel(\"Predicted\")\n",
        "plt.ylabel(\"Actual\")\n",
        "plt.show()"
      ],
      "metadata": {
        "colab": {
          "base_uri": "https://localhost:8080/",
          "height": 472
        },
        "id": "M2mUurIfQJCp",
        "outputId": "4f56b619-3c00-4b85-bd74-57e1d17f86ab"
      },
      "execution_count": null,
      "outputs": [
        {
          "output_type": "display_data",
          "data": {
            "text/plain": [
              "<Figure size 640x480 with 2 Axes>"
            ],
            "image/png": "[encoded data removed]"
          },
          "metadata": {}
        }
      ]
    },
    {
      "cell_type": "code",
      "source": [
        "# ROC Curve for XGBoost with Feature Fusion\n",
        "y_pred_xgb_fusion_proba = xgb_model.predict_proba(x_test_fusion)[:, 1]\n",
        "fpr_xgb, tpr_xgb, _ = roc_curve(y_test, y_pred_xgb_fusion_proba)\n",
        "roc_auc_xgb = auc(fpr_xgb, tpr_xgb)"
      ],
      "metadata": {
        "id": "7zRog2bUQK7B"
      },
      "execution_count": null,
      "outputs": []
    },
    {
      "cell_type": "code",
      "source": [
        "plt.plot(fpr_xgb, tpr_xgb, label=f'XGBoost (AUC = {roc_auc_xgb:.2f})')\n",
        "plt.plot([0, 1], [0, 1], 'k--')\n",
        "plt.xlabel('False Positive Rate')\n",
        "plt.ylabel('True Positive Rate')\n",
        "plt.title('ROC Curve: XGBoost with Feature Fusion')\n",
        "plt.legend(loc=\"lower right\")\n",
        "plt.show()"
      ],
      "metadata": {
        "colab": {
          "base_uri": "https://localhost:8080/",
          "height": 472
        },
        "id": "jTvHPS3OQM3V",
        "outputId": "36915228-8ce3-4858-eb2b-544cbc5063d5"
      },
      "execution_count": null,
      "outputs": [
        {
          "output_type": "display_data",
          "data": {
            "text/plain": [
              "<Figure size 640x480 with 1 Axes>"
            ],
            "image/png": "[encoded data removed]"
          },
          "metadata": {}
        }
      ]
    },
    {
      "cell_type": "code",
      "source": [
        "# Confusion Matrix for LightGBM with Feature Fusion\n",
        "y_pred_lgb_fusion = lgb_model.predict(x_test_fusion)\n",
        "cm_lgb = confusion_matrix(y_test, y_pred_lgb_fusion)\n",
        "sns.heatmap(cm_lgb, annot=True, fmt=\"d\", cmap=\"Blues\", xticklabels=['Ham', 'Spam'], yticklabels=['Ham', 'Spam'])\n",
        "plt.title(\"Confusion Matrix: LightGBM with Feature Fusion\")\n",
        "plt.xlabel(\"Predicted\")\n",
        "plt.ylabel(\"Actual\")\n",
        "plt.show()"
      ],
      "metadata": {
        "colab": {
          "base_uri": "https://localhost:8080/",
          "height": 527
        },
        "id": "U8cs9jGbQOfg",
        "outputId": "c415610f-2a4a-45ba-c041-9c8f28298948"
      },
      "execution_count": null,
      "outputs": [
        {
          "output_type": "stream",
          "name": "stderr",
          "text": [
            "/usr/local/lib/python3.10/dist-packages/lightgbm/basic.py:1218: UserWarning: Converting data to scipy sparse matrix.\n",
            "  _log_warning(\"Converting data to scipy sparse matrix.\")\n"
          ]
        },
        {
          "output_type": "display_data",
          "data": {
            "text/plain": [
              "<Figure size 640x480 with 2 Axes>"
            ],
            "image/png": "[encoded data removed]"
          },
          "metadata": {}
        }
      ]
    },
    {
      "cell_type": "code",
      "source": [
        "# ROC Curve for LightGBM with Feature Fusion\n",
        "y_pred_lgb_fusion_proba = lgb_model.predict_proba(x_test_fusion)[:, 1]\n",
        "fpr_lgb, tpr_lgb, _ = roc_curve(y_test, y_pred_lgb_fusion_proba)\n",
        "roc_auc_lgb = auc(fpr_lgb, tpr_lgb)"
      ],
      "metadata": {
        "colab": {
          "base_uri": "https://localhost:8080/"
        },
        "id": "ZukIXOVlQRlz",
        "outputId": "3f764fca-3869-4178-c369-0eec78de2476"
      },
      "execution_count": null,
      "outputs": [
        {
          "output_type": "stream",
          "name": "stderr",
          "text": [
            "/usr/local/lib/python3.10/dist-packages/lightgbm/basic.py:1218: UserWarning: Converting data to scipy sparse matrix.\n",
            "  _log_warning(\"Converting data to scipy sparse matrix.\")\n"
          ]
        }
      ]
    },
    {
      "cell_type": "code",
      "source": [
        "plt.plot(fpr_lgb, tpr_lgb, label=f'LightGBM (AUC = {roc_auc_lgb:.2f})')\n",
        "plt.plot([0, 1], [0, 1], 'k--')\n",
        "plt.xlabel('False Positive Rate')\n",
        "plt.ylabel('True Positive Rate')\n",
        "plt.title('ROC Curve: LightGBM with Feature Fusion')\n",
        "plt.legend(loc=\"lower right\")\n",
        "plt.show()"
      ],
      "metadata": {
        "colab": {
          "base_uri": "https://localhost:8080/",
          "height": 472
        },
        "id": "qdZ7V6e8QTJv",
        "outputId": "0734dc76-2162-4b2d-abfa-141d8647366d"
      },
      "execution_count": null,
      "outputs": [
        {
          "output_type": "display_data",
          "data": {
            "text/plain": [
              "<Figure size 640x480 with 1 Axes>"
            ],
            "image/png": "[encoded data removed]"
          },
          "metadata": {}
        }
      ]
    },
    {
      "cell_type": "code",
      "source": [
        "def print_classification_metrics(y_true, y_pred, model_name, feature_extraction):\n",
        "    precision = precision_score(y_true, y_pred)\n",
        "    recall = recall_score(y_true, y_pred)\n",
        "    f1 = f1_score(y_true, y_pred)\n",
        "\n",
        "    print(f\"{model_name} + {feature_extraction} - Precision: {precision:.4f}, Recall: {recall:.4f}, F1-score: {f1:.4f}\")\n"
      ],
      "metadata": {
        "id": "daE5d-_VQVTn"
      },
      "execution_count": null,
      "outputs": []
    },
    {
      "cell_type": "code",
      "source": [
        "# Naive Bayes with Feature Fusion\n",
        "print_classification_metrics(y_test, y_pred_nb_fusion, \"Naive Bayes\", \"Feature Fusion\")"
      ],
      "metadata": {
        "colab": {
          "base_uri": "https://localhost:8080/"
        },
        "id": "THmTbjJTDTRr",
        "outputId": "a9d5b9fb-13e4-4d4c-dbce-a946691fefb2"
      },
      "execution_count": null,
      "outputs": [
        {
          "output_type": "stream",
          "name": "stdout",
          "text": [
            "Naive Bayes + Feature Fusion - Precision: 0.9880, Recall: 0.8871, F1-score: 0.9348\n"
          ]
        }
      ]
    },
    {
      "cell_type": "code",
      "source": [
        "# MNB Count Vectorizer\n",
        "nb_model_cv = MultinomialNB()\n",
        "nb_model_cv.fit(x_train_cv, y_train)\n",
        "y_pred_nb_cv = nb_model_cv.predict(x_test_cv)\n",
        "print_classification_metrics(y_test, y_pred_nb_cv, \"Multinomial Naive Bayes\", \"Count Vectorizer\")\n"
      ],
      "metadata": {
        "colab": {
          "base_uri": "https://localhost:8080/"
        },
        "id": "mwbkQ8KJPOCP",
        "outputId": "ae55ccf2-8ac6-4a56-c17c-b4e06833c6bc"
      },
      "execution_count": null,
      "outputs": [
        {
          "output_type": "stream",
          "name": "stdout",
          "text": [
            "Multinomial Naive Bayes + Count Vectorizer - Precision: 0.9775, Recall: 0.9355, F1-score: 0.9560\n"
          ]
        }
      ]
    },
    {
      "cell_type": "code",
      "source": [
        "# Refit the model with TF-IDF Vectorizer\n",
        "nb_model_tfidf = MultinomialNB()\n",
        "nb_model_tfidf.fit(x_train_tfidf, y_train)\n",
        "y_pred_nb_tfidf = nb_model_tfidf.predict(x_test_tfidf)\n",
        "print_classification_metrics(y_test, y_pred_nb_tfidf, \"Multinomial Naive Bayes\", \"TF-IDF Vectorizer\")"
      ],
      "metadata": {
        "id": "498foCNcNwQW",
        "colab": {
          "base_uri": "https://localhost:8080/"
        },
        "outputId": "0d704659-a86c-40b6-e588-7fea2918df9a"
      },
      "execution_count": null,
      "outputs": [
        {
          "output_type": "stream",
          "name": "stdout",
          "text": [
            "Multinomial Naive Bayes + TF-IDF Vectorizer - Precision: 0.9933, Recall: 0.8011, F1-score: 0.8869\n"
          ]
        }
      ]
    },
    {
      "cell_type": "code",
      "source": [
        "# Refit the model with Word2Vec embeddings (transformed to positive values)\n",
        "nb_model_w2v = MultinomialNB()\n",
        "nb_model_w2v.fit(x_train_w2v_abs, y_train)  # Using absolute values\n",
        "y_pred_nb_w2v = nb_model_w2v.predict(x_test_w2v_abs)\n",
        "print_classification_metrics(y_test, y_pred_nb_w2v, \"Multinomial Naive Bayes\", \"Word2Vec\")"
      ],
      "metadata": {
        "colab": {
          "base_uri": "https://localhost:8080/"
        },
        "id": "nHGs1vStP2O9",
        "outputId": "8fd536d0-4fb2-42f0-df11-e8679a0c6242"
      },
      "execution_count": null,
      "outputs": [
        {
          "output_type": "stream",
          "name": "stdout",
          "text": [
            "Multinomial Naive Bayes + Word2Vec - Precision: 0.0000, Recall: 0.0000, F1-score: 0.0000\n"
          ]
        },
        {
          "output_type": "stream",
          "name": "stderr",
          "text": [
            "/usr/local/lib/python3.10/dist-packages/sklearn/metrics/_classification.py:1531: UndefinedMetricWarning: Precision is ill-defined and being set to 0.0 due to no predicted samples. Use `zero_division` parameter to control this behavior.\n",
            "  _warn_prf(average, modifier, f\"{metric.capitalize()} is\", len(result))\n"
          ]
        }
      ]
    },
    {
      "cell_type": "code",
      "source": [
        "# Logistic Regression with Feature Fusion\n",
        "print_classification_metrics(y_test, y_pred_lr_fusion, \"Logistic Regression\",\"Feature Fusion\")"
      ],
      "metadata": {
        "colab": {
          "base_uri": "https://localhost:8080/"
        },
        "id": "lQoz2PAMDWtc",
        "outputId": "dbf09005-fb57-40dc-e491-57e4a3ef2249"
      },
      "execution_count": null,
      "outputs": [
        {
          "output_type": "stream",
          "name": "stdout",
          "text": [
            "Logistic Regression + Feature Fusion - Precision: 0.9940, Recall: 0.8925, F1-score: 0.9405\n"
          ]
        }
      ]
    },
    {
      "cell_type": "code",
      "source": [
        "# Refit the model with Count Vectorizer\n",
        "lr_model_cv = LogisticRegression(max_iter=1000)\n",
        "lr_model_cv.fit(x_train_cv, y_train)\n",
        "y_pred_lr_cv = lr_model_cv.predict(x_test_cv)\n",
        "print_classification_metrics(y_test, y_pred_lr_cv, \"Logistic Regression\", \"Count Vectorizer\")"
      ],
      "metadata": {
        "colab": {
          "base_uri": "https://localhost:8080/"
        },
        "id": "KBbEeWWLP9Ht",
        "outputId": "b878a02b-a7a4-42ea-abc5-fb13656eec28"
      },
      "execution_count": null,
      "outputs": [
        {
          "output_type": "stream",
          "name": "stdout",
          "text": [
            "Logistic Regression + Count Vectorizer - Precision: 1.0000, Recall: 0.8763, F1-score: 0.9341\n"
          ]
        }
      ]
    },
    {
      "cell_type": "code",
      "source": [
        "# Refit the model with TF-IDF Vectorizer\n",
        "lr_model_tfidf = LogisticRegression(max_iter=1000)\n",
        "lr_model_tfidf.fit(x_train_tfidf, y_train)\n",
        "y_pred_lr_tfidf = lr_model_tfidf.predict(x_test_tfidf)\n",
        "print_classification_metrics(y_test, y_pred_lr_tfidf, \"Logistic Regression\", \"TF-IDF Vectorizer\")"
      ],
      "metadata": {
        "colab": {
          "base_uri": "https://localhost:8080/"
        },
        "id": "VvTGMDqUQP-8",
        "outputId": "2ef26c29-e5e7-4118-f25a-b2a5154e4433"
      },
      "execution_count": null,
      "outputs": [
        {
          "output_type": "stream",
          "name": "stdout",
          "text": [
            "Logistic Regression + TF-IDF Vectorizer - Precision: 1.0000, Recall: 0.7473, F1-score: 0.8554\n"
          ]
        }
      ]
    },
    {
      "cell_type": "code",
      "source": [
        "# Refit the model with Word2Vec embeddings\n",
        "lr_model_w2v = LogisticRegression(max_iter=1000)\n",
        "lr_model_w2v.fit(x_train_w2v, y_train)\n",
        "y_pred_lr_w2v = lr_model_w2v.predict(x_test_w2v)\n",
        "print_classification_metrics(y_test, y_pred_lr_w2v, \"Logistic Regression\", \"Word2Vec\")"
      ],
      "metadata": {
        "colab": {
          "base_uri": "https://localhost:8080/"
        },
        "id": "hirAI_jEQR4t",
        "outputId": "632c2bf7-6145-493f-9eea-023fcbba93e8"
      },
      "execution_count": null,
      "outputs": [
        {
          "output_type": "stream",
          "name": "stdout",
          "text": [
            "Logistic Regression + Word2Vec - Precision: 0.1053, Recall: 0.0108, F1-score: 0.0195\n"
          ]
        }
      ]
    },
    {
      "cell_type": "code",
      "source": [
        "# AdaBoost with Feature Fusion\n",
        "print_classification_metrics(y_test, y_pred_ada_fusion, \"AdaBoost\", \"Feature Fusion\")"
      ],
      "metadata": {
        "colab": {
          "base_uri": "https://localhost:8080/"
        },
        "id": "FNk41Z5dDoC2",
        "outputId": "5a495245-e084-48e2-ded0-6a029e91a8e5"
      },
      "execution_count": null,
      "outputs": [
        {
          "output_type": "stream",
          "name": "stdout",
          "text": [
            "AdaBoost + Feature Fusion - Precision: 0.9454, Recall: 0.9301, F1-score: 0.9377\n"
          ]
        }
      ]
    },
    {
      "cell_type": "code",
      "source": [
        "# Refit the model with Count Vectorizer\n",
        "ada_model_cv = AdaBoostClassifier(n_estimators=100)\n",
        "ada_model_cv.fit(x_train_cv, y_train)\n",
        "y_pred_ada_cv = ada_model_cv.predict(x_test_cv)\n",
        "print_classification_metrics(y_test, y_pred_ada_cv, \"AdaBoost\", \"Count Vectorizer\")"
      ],
      "metadata": {
        "colab": {
          "base_uri": "https://localhost:8080/"
        },
        "id": "nSfttOE0Qab4",
        "outputId": "9a809e41-9f63-4f88-e365-5e66eace77b4"
      },
      "execution_count": null,
      "outputs": [
        {
          "output_type": "stream",
          "name": "stderr",
          "text": [
            "/usr/local/lib/python3.10/dist-packages/sklearn/ensemble/_weight_boosting.py:527: FutureWarning: The SAMME.R algorithm (the default) is deprecated and will be removed in 1.6. Use the SAMME algorithm to circumvent this warning.\n",
            "  warnings.warn(\n"
          ]
        },
        {
          "output_type": "stream",
          "name": "stdout",
          "text": [
            "AdaBoost + Count Vectorizer - Precision: 0.9701, Recall: 0.8710, F1-score: 0.9178\n"
          ]
        }
      ]
    },
    {
      "cell_type": "code",
      "source": [
        "# Refit the model with TF-IDF Vectorizer\n",
        "ada_model_tfidf = AdaBoostClassifier(n_estimators=100)\n",
        "ada_model_tfidf.fit(x_train_tfidf, y_train)\n",
        "y_pred_ada_tfidf = ada_model_tfidf.predict(x_test_tfidf)\n",
        "print_classification_metrics(y_test, y_pred_ada_tfidf, \"AdaBoost\", \"TF-IDF Vectorizer\")"
      ],
      "metadata": {
        "colab": {
          "base_uri": "https://localhost:8080/"
        },
        "id": "0_f1P6XYQegP",
        "outputId": "a740d2ae-47c7-45c6-d21b-12f7dd440b4f"
      },
      "execution_count": null,
      "outputs": [
        {
          "output_type": "stream",
          "name": "stderr",
          "text": [
            "/usr/local/lib/python3.10/dist-packages/sklearn/ensemble/_weight_boosting.py:527: FutureWarning: The SAMME.R algorithm (the default) is deprecated and will be removed in 1.6. Use the SAMME algorithm to circumvent this warning.\n",
            "  warnings.warn(\n"
          ]
        },
        {
          "output_type": "stream",
          "name": "stdout",
          "text": [
            "AdaBoost + TF-IDF Vectorizer - Precision: 0.9706, Recall: 0.8871, F1-score: 0.9270\n"
          ]
        }
      ]
    },
    {
      "cell_type": "code",
      "source": [
        "# Refit the model with Word2Vec embeddings\n",
        "ada_model_w2v = AdaBoostClassifier(n_estimators=100)\n",
        "ada_model_w2v.fit(x_train_w2v_abs, y_train)  # Assuming you are using absolute values for the embeddings\n",
        "y_pred_ada_w2v = ada_model_w2v.predict(x_test_w2v_abs)\n",
        "print_classification_metrics(y_test, y_pred_ada_w2v, \"AdaBoost\", \"Word2Vec\")"
      ],
      "metadata": {
        "colab": {
          "base_uri": "https://localhost:8080/"
        },
        "id": "G-RKQ5yNSoM9",
        "outputId": "52e5fb01-63d9-4a7e-c549-17bd6464d07e"
      },
      "execution_count": null,
      "outputs": [
        {
          "output_type": "stream",
          "name": "stderr",
          "text": [
            "/usr/local/lib/python3.10/dist-packages/sklearn/ensemble/_weight_boosting.py:527: FutureWarning: The SAMME.R algorithm (the default) is deprecated and will be removed in 1.6. Use the SAMME algorithm to circumvent this warning.\n",
            "  warnings.warn(\n"
          ]
        },
        {
          "output_type": "stream",
          "name": "stdout",
          "text": [
            "AdaBoost + Word2Vec - Precision: 0.6810, Recall: 0.5968, F1-score: 0.6361\n"
          ]
        }
      ]
    },
    {
      "cell_type": "code",
      "source": [
        "# Gradient Boosting with Feature Fusion\n",
        "print_classification_metrics(y_test, y_pred_gb_fusion, \"Gradient Boosting\", \"Feature Fusion\")"
      ],
      "metadata": {
        "colab": {
          "base_uri": "https://localhost:8080/"
        },
        "id": "4JmFvDRODqM4",
        "outputId": "a7f57de0-ba9a-4a86-e544-08ed93781edd"
      },
      "execution_count": null,
      "outputs": [
        {
          "output_type": "stream",
          "name": "stdout",
          "text": [
            "Gradient Boosting + Feature Fusion - Precision: 0.9752, Recall: 0.8441, F1-score: 0.9049\n"
          ]
        }
      ]
    },
    {
      "cell_type": "code",
      "source": [
        "# Refit the model with Count Vectorizer\n",
        "gb_model_cv = GradientBoostingClassifier(n_estimators=100)\n",
        "gb_model_cv.fit(x_train_cv, y_train)\n",
        "y_pred_gb_cv = gb_model_cv.predict(x_test_cv)\n",
        "print_classification_metrics(y_test, y_pred_gb_cv, \"Gradient Boosting\", \"Count Vectorizer\")"
      ],
      "metadata": {
        "colab": {
          "base_uri": "https://localhost:8080/"
        },
        "id": "UT5eLc-lSzRU",
        "outputId": "1b40c69e-53ca-4d35-af2d-4cdf1bfd61b1"
      },
      "execution_count": null,
      "outputs": [
        {
          "output_type": "stream",
          "name": "stdout",
          "text": [
            "Gradient Boosting + Count Vectorizer - Precision: 0.9936, Recall: 0.8387, F1-score: 0.9096\n"
          ]
        }
      ]
    },
    {
      "cell_type": "code",
      "source": [
        "# Refit the model with TF-IDF Vectorizer\n",
        "gb_model_tfidf = GradientBoostingClassifier(n_estimators=100)\n",
        "gb_model_tfidf.fit(x_train_tfidf, y_train)\n",
        "y_pred_gb_tfidf = gb_model_tfidf.predict(x_test_tfidf)\n",
        "print_classification_metrics(y_test, y_pred_gb_tfidf, \"Gradient Boosting\", \"TF-IDF Vectorizer\")"
      ],
      "metadata": {
        "colab": {
          "base_uri": "https://localhost:8080/"
        },
        "id": "FXo5ZxOlS1Iv",
        "outputId": "affc90b5-e8fe-41b4-d540-d5f85135b61d"
      },
      "execution_count": null,
      "outputs": [
        {
          "output_type": "stream",
          "name": "stdout",
          "text": [
            "Gradient Boosting + TF-IDF Vectorizer - Precision: 1.0000, Recall: 0.7634, F1-score: 0.8659\n"
          ]
        }
      ]
    },
    {
      "cell_type": "code",
      "source": [
        "# Refit the model with Word2Vec embeddings\n",
        "gb_model_w2v = GradientBoostingClassifier(n_estimators=100)\n",
        "gb_model_w2v.fit(x_train_w2v_abs, y_train)  # Assuming you are using absolute values for the embeddings\n",
        "y_pred_gb_w2v = gb_model_w2v.predict(x_test_w2v_abs)\n",
        "print_classification_metrics(y_test, y_pred_gb_w2v, \"Gradient Boosting\", \"Word2Vec\")"
      ],
      "metadata": {
        "colab": {
          "base_uri": "https://localhost:8080/"
        },
        "id": "qH7c844US3l6",
        "outputId": "52c181d1-22bc-47e3-ea50-b880035c7a26"
      },
      "execution_count": null,
      "outputs": [
        {
          "output_type": "stream",
          "name": "stdout",
          "text": [
            "Gradient Boosting + Word2Vec - Precision: 0.7447, Recall: 0.5645, F1-score: 0.6422\n"
          ]
        }
      ]
    },
    {
      "cell_type": "code",
      "source": [
        "# XGBoost with Feature Fusion\n",
        "print_classification_metrics(y_test, y_pred_xgb_fusion, \"XGBoost\" , \"Feature Fusion\")"
      ],
      "metadata": {
        "id": "g872JwczDuIy",
        "outputId": "4a24db6a-ecf8-499d-dffc-df4936c4986a",
        "colab": {
          "base_uri": "https://localhost:8080/"
        }
      },
      "execution_count": null,
      "outputs": [
        {
          "output_type": "stream",
          "name": "stdout",
          "text": [
            "XGBoost + Feature Fusion - Precision: 0.9820, Recall: 0.8817, F1-score: 0.9292\n"
          ]
        }
      ]
    },
    {
      "cell_type": "code",
      "source": [
        "# Refit the model with Count Vectorizer\n",
        "xgb_model_cv = xgb.XGBClassifier(n_estimators=100, eval_metric='logloss')\n",
        "xgb_model_cv.fit(x_train_cv, y_train)\n",
        "y_pred_xgb_cv = xgb_model_cv.predict(x_test_cv)\n",
        "print_classification_metrics(y_test, y_pred_xgb_cv, \"XGBoost\", \"Count Vectorizer\")"
      ],
      "metadata": {
        "colab": {
          "base_uri": "https://localhost:8080/"
        },
        "id": "54_6eHh9S-jE",
        "outputId": "35eb59d1-cd82-45f2-8e5b-e7525cef1c77"
      },
      "execution_count": null,
      "outputs": [
        {
          "output_type": "stream",
          "name": "stdout",
          "text": [
            "XGBoost + Count Vectorizer - Precision: 0.9760, Recall: 0.8763, F1-score: 0.9235\n"
          ]
        }
      ]
    },
    {
      "cell_type": "code",
      "source": [
        "# Refit the model with TF-IDF Vectorizer\n",
        "xgb_model_tfidf = xgb.XGBClassifier(n_estimators=100, eval_metric='logloss')\n",
        "xgb_model_tfidf.fit(x_train_tfidf, y_train)\n",
        "y_pred_xgb_tfidf = xgb_model_tfidf.predict(x_test_tfidf)\n",
        "print_classification_metrics(y_test, y_pred_xgb_tfidf, \"XGBoost\", \"TF-IDF Vectorizer\")"
      ],
      "metadata": {
        "colab": {
          "base_uri": "https://localhost:8080/"
        },
        "id": "yeVdVU3JTBVi",
        "outputId": "ca6da7c9-898d-44b3-e8d3-59fa19088d31"
      },
      "execution_count": null,
      "outputs": [
        {
          "output_type": "stream",
          "name": "stdout",
          "text": [
            "XGBoost + TF-IDF Vectorizer - Precision: 0.9639, Recall: 0.8602, F1-score: 0.9091\n"
          ]
        }
      ]
    },
    {
      "cell_type": "code",
      "source": [
        "# Refit the model with Word2Vec embeddings\n",
        "xgb_model_w2v = xgb.XGBClassifier(n_estimators=100, eval_metric='logloss')\n",
        "xgb_model_w2v.fit(x_train_w2v_abs, y_train)  # Assuming you are using absolute values for the embeddings\n",
        "y_pred_xgb_w2v = xgb_model_w2v.predict(x_test_w2v_abs)\n",
        "print_classification_metrics(y_test, y_pred_xgb_w2v, \"XGBoost\", \"Word2Vec\")"
      ],
      "metadata": {
        "colab": {
          "base_uri": "https://localhost:8080/"
        },
        "id": "UVC17lx7TD-b",
        "outputId": "7778bea0-9524-4721-b177-a7212f207dc8"
      },
      "execution_count": null,
      "outputs": [
        {
          "output_type": "stream",
          "name": "stdout",
          "text": [
            "XGBoost + Word2Vec - Precision: 0.8075, Recall: 0.6989, F1-score: 0.7493\n"
          ]
        }
      ]
    },
    {
      "cell_type": "code",
      "source": [
        "# LightGBM with Feature Fusion\n",
        "print_classification_metrics(y_test, y_pred_lgb_fusion, \"LightGBM\" , \"Feature Fusion\")"
      ],
      "metadata": {
        "id": "U3lDctKkDwZC",
        "outputId": "f54bba96-1445-46b5-e745-8c99fff60637",
        "colab": {
          "base_uri": "https://localhost:8080/"
        }
      },
      "execution_count": null,
      "outputs": [
        {
          "output_type": "stream",
          "name": "stdout",
          "text": [
            "LightGBM + Feature Fusion - Precision: 0.9941, Recall: 0.9032, F1-score: 0.9465\n"
          ]
        }
      ]
    },
    {
      "cell_type": "code",
      "source": [
        "# Refit the model with Count Vectorizer\n",
        "lgb_model_cv = lgb.LGBMClassifier(n_estimators=100, verbose=-1)\n",
        "lgb_model_cv.fit(x_train_cv_1, y_train)\n",
        "y_pred_lgb_cv = lgb_model_cv.predict(x_test_cv_1)\n",
        "print_classification_metrics(y_test, y_pred_lgb_cv, \"LightGBM\", \"Count Vectorizer\")"
      ],
      "metadata": {
        "id": "yP_PtpgYDyfI",
        "colab": {
          "base_uri": "https://localhost:8080/"
        },
        "outputId": "ebf202da-f429-4624-f811-4fbb75cbb1f1"
      },
      "execution_count": null,
      "outputs": [
        {
          "output_type": "stream",
          "name": "stdout",
          "text": [
            "LightGBM + Count Vectorizer - Precision: 0.9763, Recall: 0.8871, F1-score: 0.9296\n"
          ]
        }
      ]
    },
    {
      "cell_type": "code",
      "source": [
        "# Refit the model with TF-IDF Vectorizer\n",
        "lgb_model_tfidf = lgb.LGBMClassifier(n_estimators=100, verbose=-1)\n",
        "lgb_model_tfidf.fit(x_train_tfidf_1, y_train)\n",
        "y_pred_lgb_tfidf = lgb_model_tfidf.predict(x_test_tfidf_1)\n",
        "print_classification_metrics(y_test, y_pred_lgb_tfidf, \"LightGBM\", \"TF-IDF Vectorizer\")"
      ],
      "metadata": {
        "id": "FcakP0GjTJb4",
        "outputId": "174908e3-d109-49dd-ea92-7f5003a4e905",
        "colab": {
          "base_uri": "https://localhost:8080/"
        }
      },
      "execution_count": null,
      "outputs": [
        {
          "output_type": "stream",
          "name": "stdout",
          "text": [
            "LightGBM + TF-IDF Vectorizer - Precision: 0.9429, Recall: 0.8871, F1-score: 0.9141\n"
          ]
        }
      ]
    },
    {
      "cell_type": "code",
      "source": [
        "# Refit the model with Word2Vec embeddings\n",
        "lgb_model_w2v = lgb.LGBMClassifier(n_estimators=100, verbose=-1)\n",
        "lgb_model_w2v.fit(x_train_w2v_abs, y_train)  # Assuming you are using absolute values for the embeddings\n",
        "y_pred_lgb_w2v = lgb_model_w2v.predict(x_test_w2v_abs)\n",
        "print_classification_metrics(y_test, y_pred_lgb_w2v, \"LightGBM\", \"Word2Vec\")"
      ],
      "metadata": {
        "id": "fYBBJ5IrTLWb",
        "outputId": "793837ec-fcea-42c9-bdd7-a8ec058a49a5",
        "colab": {
          "base_uri": "https://localhost:8080/"
        }
      },
      "execution_count": null,
      "outputs": [
        {
          "output_type": "stream",
          "name": "stdout",
          "text": [
            "LightGBM + Word2Vec - Precision: 0.8137, Recall: 0.7043, F1-score: 0.7550\n"
          ]
        }
      ]
    },
    {
      "cell_type": "code",
      "source": [],
      "metadata": {
        "id": "mFvn3q7iTOF9"
      },
      "execution_count": null,
      "outputs": []
    }
  ]
}